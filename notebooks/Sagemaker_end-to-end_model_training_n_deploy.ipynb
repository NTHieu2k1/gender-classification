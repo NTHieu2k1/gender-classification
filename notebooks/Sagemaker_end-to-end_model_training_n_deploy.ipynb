{
 "cells": [
  {
   "cell_type": "markdown",
   "id": "a9600f78-7eb7-44a7-a0df-b230549202e4",
   "metadata": {},
   "source": [
    "# End-to-end Model training & deployment using AWS Sagemaker Platform"
   ]
  },
  {
   "cell_type": "markdown",
   "id": "73125777-6331-47f3-8124-80214795949c",
   "metadata": {},
   "source": [
    "## 1. Import libraries & modules:"
   ]
  },
  {
   "cell_type": "code",
   "execution_count": 1,
   "id": "979a8530-ef7f-432f-bd9e-27d77fa70b74",
   "metadata": {},
   "outputs": [
    {
     "name": "stdout",
     "output_type": "stream",
     "text": [
      "/home/ec2-user/SageMaker/gender-classification\n"
     ]
    },
    {
     "name": "stderr",
     "output_type": "stream",
     "text": [
      "/home/ec2-user/anaconda3/envs/pytorch_p310/lib/python3.10/site-packages/pydantic/_internal/_fields.py:198: UserWarning: Field name \"json\" in \"MonitoringDatasetFormat\" shadows an attribute in parent \"Base\"\n",
      "  warnings.warn(\n"
     ]
    },
    {
     "data": {
      "text/html": [
       "<pre style=\"white-space:pre;overflow-x:auto;line-height:normal;font-family:Menlo,'DejaVu Sans Mono',consolas,'Courier New',monospace\"><span style=\"color: #7fbfbf; text-decoration-color: #7fbfbf\">[04/26/25 15:10:11] </span><span style=\"color: #0069ff; text-decoration-color: #0069ff; font-weight: bold\">INFO    </span> Found credentials from IAM Role:                                   <a href=\"file:///home/ec2-user/anaconda3/envs/pytorch_p310/lib/python3.10/site-packages/botocore/credentials.py\" target=\"_blank\"><span style=\"color: #7f7f7f; text-decoration-color: #7f7f7f\">credentials.py</span></a><span style=\"color: #7f7f7f; text-decoration-color: #7f7f7f\">:</span><a href=\"file:///home/ec2-user/anaconda3/envs/pytorch_p310/lib/python3.10/site-packages/botocore/credentials.py#1132\" target=\"_blank\"><span style=\"color: #7f7f7f; text-decoration-color: #7f7f7f\">1132</span></a>\n",
       "<span style=\"color: #7fbfbf; text-decoration-color: #7fbfbf\">                    </span>         BaseNotebookInstanceEc2InstanceRole                                <span style=\"color: #7f7f7f; text-decoration-color: #7f7f7f\">                   </span>\n",
       "</pre>\n"
      ],
      "text/plain": [
       "\u001b[2;36m[04/26/25 15:10:11]\u001b[0m\u001b[2;36m \u001b[0m\u001b[1;38;2;0;105;255mINFO    \u001b[0m Found credentials from IAM Role:                                   \u001b]8;id=780696;file:///home/ec2-user/anaconda3/envs/pytorch_p310/lib/python3.10/site-packages/botocore/credentials.py\u001b\\\u001b[2mcredentials.py\u001b[0m\u001b]8;;\u001b\\\u001b[2m:\u001b[0m\u001b]8;id=241182;file:///home/ec2-user/anaconda3/envs/pytorch_p310/lib/python3.10/site-packages/botocore/credentials.py#1132\u001b\\\u001b[2m1132\u001b[0m\u001b]8;;\u001b\\\n",
       "\u001b[2;36m                    \u001b[0m         BaseNotebookInstanceEc2InstanceRole                                \u001b[2m                   \u001b[0m\n"
      ]
     },
     "metadata": {},
     "output_type": "display_data"
    },
    {
     "name": "stdout",
     "output_type": "stream",
     "text": [
      "sagemaker.config INFO - Not applying SDK defaults from location: /etc/xdg/sagemaker/config.yaml\n",
      "sagemaker.config INFO - Not applying SDK defaults from location: /home/ec2-user/.config/sagemaker/config.yaml\n"
     ]
    }
   ],
   "source": [
    "%cd ..\n",
    "from sagemaker.pytorch import PyTorch\n",
    "from sagemaker import get_execution_role\n",
    "import os\n",
    "import zipfile\n",
    "import boto3\n",
    "from pathlib import Path\n",
    "import pandas as pd\n",
    "import shutil"
   ]
  },
  {
   "cell_type": "markdown",
   "id": "e6b6e593-45dc-4f5d-99a0-11329c07faeb",
   "metadata": {},
   "source": [
    "## 2. Prepare data:"
   ]
  },
  {
   "cell_type": "code",
   "execution_count": 2,
   "id": "0530b293-b212-4d8d-8626-3bf3cc34672a",
   "metadata": {},
   "outputs": [],
   "source": [
    "# Unzip the original dataset file\n",
    "os.makedirs('data', exist_ok=True)\n",
    "with zipfile.ZipFile('gender_classification_dataset.zip') as zipf:\n",
    "    zipf.extractall('data')"
   ]
  },
  {
   "cell_type": "code",
   "execution_count": 3,
   "id": "8287e385-8026-48be-b89b-5f23374dd38a",
   "metadata": {},
   "outputs": [],
   "source": [
    "# Load csv files\n",
    "train_df = pd.read_csv('data/train.csv')\n",
    "test_df = pd.read_csv('data/test.csv')"
   ]
  },
  {
   "cell_type": "code",
   "execution_count": 4,
   "id": "91e8c64b-e09a-45d7-ba1c-5ac0d5580370",
   "metadata": {},
   "outputs": [],
   "source": [
    "# Create folders for splitting\n",
    "os.makedirs('data/train/male', exist_ok=True)\n",
    "os.makedirs('data/train/female', exist_ok=True)\n",
    "os.makedirs('data/test/male', exist_ok=True)\n",
    "os.makedirs('data/test/female', exist_ok=True)"
   ]
  },
  {
   "cell_type": "code",
   "execution_count": 5,
   "id": "01802f32-65fa-4bf3-a5e3-41cfa71336a8",
   "metadata": {},
   "outputs": [
    {
     "data": {
      "text/plain": [
       "'data/test/test.csv'"
      ]
     },
     "execution_count": 5,
     "metadata": {},
     "output_type": "execute_result"
    }
   ],
   "source": [
    "# Copy files to separate folders\n",
    "for path in train_df.path:\n",
    "    shutil.copy(f'data/{path}', f'data/train/{path}')\n",
    "for path in test_df.path:\n",
    "    shutil.copy(f'data/{path}', f'data/test/{path}')\n",
    "shutil.copy('data/train.csv', 'data/train/train.csv')\n",
    "shutil.copy('data/test.csv', 'data/test/test.csv')"
   ]
  },
  {
   "cell_type": "code",
   "execution_count": 6,
   "id": "a67c4a4b-8fad-4a42-b481-49bae5458dda",
   "metadata": {},
   "outputs": [],
   "source": [
    "# Pack to zip files\n",
    "with zipfile.ZipFile('train.zip', 'w') as train_zip:\n",
    "    for path in train_df.path:\n",
    "        train_zip.write(f'data/train/{path}', arcname=path)\n",
    "    train_zip.write('data/train/train.csv', arcname='train.csv')\n",
    "\n",
    "with zipfile.ZipFile('test.zip', 'w') as test_zip:\n",
    "    for path in test_df.path:\n",
    "        test_zip.write(f'data/test/{path}', arcname=path)\n",
    "    test_zip.write('data/test/test.csv', arcname='test.csv')"
   ]
  },
  {
   "cell_type": "code",
   "execution_count": 7,
   "id": "67cb16eb-4d28-42a1-872b-b57d4105911c",
   "metadata": {},
   "outputs": [
    {
     "data": {
      "text/html": [
       "<pre style=\"white-space:pre;overflow-x:auto;line-height:normal;font-family:Menlo,'DejaVu Sans Mono',consolas,'Courier New',monospace\"><span style=\"color: #7fbfbf; text-decoration-color: #7fbfbf\">[04/26/25 08:38:04] </span><span style=\"color: #0069ff; text-decoration-color: #0069ff; font-weight: bold\">INFO    </span> Found credentials from IAM Role:                                   <a href=\"file:///home/ec2-user/anaconda3/envs/pytorch_p310/lib/python3.10/site-packages/botocore/credentials.py\" target=\"_blank\"><span style=\"color: #7f7f7f; text-decoration-color: #7f7f7f\">credentials.py</span></a><span style=\"color: #7f7f7f; text-decoration-color: #7f7f7f\">:</span><a href=\"file:///home/ec2-user/anaconda3/envs/pytorch_p310/lib/python3.10/site-packages/botocore/credentials.py#1132\" target=\"_blank\"><span style=\"color: #7f7f7f; text-decoration-color: #7f7f7f\">1132</span></a>\n",
       "<span style=\"color: #7fbfbf; text-decoration-color: #7fbfbf\">                    </span>         BaseNotebookInstanceEc2InstanceRole                                <span style=\"color: #7f7f7f; text-decoration-color: #7f7f7f\">                   </span>\n",
       "</pre>\n"
      ],
      "text/plain": [
       "\u001b[2;36m[04/26/25 08:38:04]\u001b[0m\u001b[2;36m \u001b[0m\u001b[1;38;2;0;105;255mINFO    \u001b[0m Found credentials from IAM Role:                                   \u001b]8;id=315986;file:///home/ec2-user/anaconda3/envs/pytorch_p310/lib/python3.10/site-packages/botocore/credentials.py\u001b\\\u001b[2mcredentials.py\u001b[0m\u001b]8;;\u001b\\\u001b[2m:\u001b[0m\u001b]8;id=203462;file:///home/ec2-user/anaconda3/envs/pytorch_p310/lib/python3.10/site-packages/botocore/credentials.py#1132\u001b\\\u001b[2m1132\u001b[0m\u001b]8;;\u001b\\\n",
       "\u001b[2;36m                    \u001b[0m         BaseNotebookInstanceEc2InstanceRole                                \u001b[2m                   \u001b[0m\n"
      ]
     },
     "metadata": {},
     "output_type": "display_data"
    }
   ],
   "source": [
    "# Upload to S3\n",
    "bucket = 'hieunt-sagemaker-gender-classification'\n",
    "prefix = 'data'\n",
    "s3 = boto3.client('s3')\n",
    "s3.upload_file('train.zip', bucket, f'{prefix}/train.zip')\n",
    "s3.upload_file('test.zip', bucket, f'{prefix}/test.zip')"
   ]
  },
  {
   "cell_type": "code",
   "execution_count": 8,
   "id": "35f587c2-b184-4d13-8bee-ad9a4d8944c1",
   "metadata": {},
   "outputs": [],
   "source": [
    "# Clean-up\n",
    "shutil.rmtree('data')\n",
    "Path('train.zip').unlink()\n",
    "Path('test.zip').unlink()"
   ]
  },
  {
   "cell_type": "markdown",
   "id": "c0cdfd47-803d-4ac2-bf3e-48d8988ee981",
   "metadata": {},
   "source": [
    "## 3. Training the model with training script (`training.py`):"
   ]
  },
  {
   "cell_type": "code",
   "execution_count": 8,
   "id": "58105528-4ea3-48ef-8050-ac53facd6dd7",
   "metadata": {},
   "outputs": [
    {
     "data": {
      "text/html": [
       "<pre style=\"white-space:pre;overflow-x:auto;line-height:normal;font-family:Menlo,'DejaVu Sans Mono',consolas,'Courier New',monospace\"><span style=\"color: #7fbfbf; text-decoration-color: #7fbfbf\">[04/26/25 15:46:35] </span><span style=\"color: #0069ff; text-decoration-color: #0069ff; font-weight: bold\">INFO    </span> SageMaker Python SDK will collect telemetry to help us better  <a href=\"file:///home/ec2-user/anaconda3/envs/pytorch_p310/lib/python3.10/site-packages/sagemaker/telemetry/telemetry_logging.py\" target=\"_blank\"><span style=\"color: #7f7f7f; text-decoration-color: #7f7f7f\">telemetry_logging.py</span></a><span style=\"color: #7f7f7f; text-decoration-color: #7f7f7f\">:</span><a href=\"file:///home/ec2-user/anaconda3/envs/pytorch_p310/lib/python3.10/site-packages/sagemaker/telemetry/telemetry_logging.py#91\" target=\"_blank\"><span style=\"color: #7f7f7f; text-decoration-color: #7f7f7f\">91</span></a>\n",
       "<span style=\"color: #7fbfbf; text-decoration-color: #7fbfbf\">                    </span>         understand our user's needs, diagnose issues, and deliver      <span style=\"color: #7f7f7f; text-decoration-color: #7f7f7f\">                       </span>\n",
       "<span style=\"color: #7fbfbf; text-decoration-color: #7fbfbf\">                    </span>         additional features.                                           <span style=\"color: #7f7f7f; text-decoration-color: #7f7f7f\">                       </span>\n",
       "<span style=\"color: #7fbfbf; text-decoration-color: #7fbfbf\">                    </span>         To opt out of telemetry, please disable via TelemetryOptOut    <span style=\"color: #7f7f7f; text-decoration-color: #7f7f7f\">                       </span>\n",
       "<span style=\"color: #7fbfbf; text-decoration-color: #7fbfbf\">                    </span>         parameter in SDK defaults config. For more information, refer  <span style=\"color: #7f7f7f; text-decoration-color: #7f7f7f\">                       </span>\n",
       "<span style=\"color: #7fbfbf; text-decoration-color: #7fbfbf\">                    </span>         to                                                             <span style=\"color: #7f7f7f; text-decoration-color: #7f7f7f\">                       </span>\n",
       "<span style=\"color: #7fbfbf; text-decoration-color: #7fbfbf\">                    </span>         <span style=\"color: #0069ff; text-decoration-color: #0069ff; text-decoration: underline\">https://sagemaker.readthedocs.io/en/stable/overview.html#confi</span> <span style=\"color: #7f7f7f; text-decoration-color: #7f7f7f\">                       </span>\n",
       "<span style=\"color: #7fbfbf; text-decoration-color: #7fbfbf\">                    </span>         <span style=\"color: #0069ff; text-decoration-color: #0069ff; text-decoration: underline\">guring-and-using-defaults-with-the-sagemaker-python-sdk.</span>       <span style=\"color: #7f7f7f; text-decoration-color: #7f7f7f\">                       </span>\n",
       "</pre>\n"
      ],
      "text/plain": [
       "\u001b[2;36m[04/26/25 15:46:35]\u001b[0m\u001b[2;36m \u001b[0m\u001b[1;38;2;0;105;255mINFO    \u001b[0m SageMaker Python SDK will collect telemetry to help us better  \u001b]8;id=164480;file:///home/ec2-user/anaconda3/envs/pytorch_p310/lib/python3.10/site-packages/sagemaker/telemetry/telemetry_logging.py\u001b\\\u001b[2mtelemetry_logging.py\u001b[0m\u001b]8;;\u001b\\\u001b[2m:\u001b[0m\u001b]8;id=686049;file:///home/ec2-user/anaconda3/envs/pytorch_p310/lib/python3.10/site-packages/sagemaker/telemetry/telemetry_logging.py#91\u001b\\\u001b[2m91\u001b[0m\u001b]8;;\u001b\\\n",
       "\u001b[2;36m                    \u001b[0m         understand our user's needs, diagnose issues, and deliver      \u001b[2m                       \u001b[0m\n",
       "\u001b[2;36m                    \u001b[0m         additional features.                                           \u001b[2m                       \u001b[0m\n",
       "\u001b[2;36m                    \u001b[0m         To opt out of telemetry, please disable via TelemetryOptOut    \u001b[2m                       \u001b[0m\n",
       "\u001b[2;36m                    \u001b[0m         parameter in SDK defaults config. For more information, refer  \u001b[2m                       \u001b[0m\n",
       "\u001b[2;36m                    \u001b[0m         to                                                             \u001b[2m                       \u001b[0m\n",
       "\u001b[2;36m                    \u001b[0m         \u001b[4;38;2;0;105;255mhttps://sagemaker.readthedocs.io/en/stable/overview.html#confi\u001b[0m \u001b[2m                       \u001b[0m\n",
       "\u001b[2;36m                    \u001b[0m         \u001b[4;38;2;0;105;255mguring-and-using-defaults-with-the-sagemaker-python-sdk.\u001b[0m       \u001b[2m                       \u001b[0m\n"
      ]
     },
     "metadata": {},
     "output_type": "display_data"
    },
    {
     "data": {
      "text/html": [
       "<pre style=\"white-space:pre;overflow-x:auto;line-height:normal;font-family:Menlo,'DejaVu Sans Mono',consolas,'Courier New',monospace\"><span style=\"color: #7fbfbf; text-decoration-color: #7fbfbf\">                    </span><span style=\"color: #0069ff; text-decoration-color: #0069ff; font-weight: bold\">INFO    </span> image_uri is not presented, retrieving image_uri based on            <a href=\"file:///home/ec2-user/anaconda3/envs/pytorch_p310/lib/python3.10/site-packages/sagemaker/image_uris.py\" target=\"_blank\"><span style=\"color: #7f7f7f; text-decoration-color: #7f7f7f\">image_uris.py</span></a><span style=\"color: #7f7f7f; text-decoration-color: #7f7f7f\">:</span><a href=\"file:///home/ec2-user/anaconda3/envs/pytorch_p310/lib/python3.10/site-packages/sagemaker/image_uris.py#681\" target=\"_blank\"><span style=\"color: #7f7f7f; text-decoration-color: #7f7f7f\">681</span></a>\n",
       "<span style=\"color: #7fbfbf; text-decoration-color: #7fbfbf\">                    </span>         instance_type, framework etc.                                        <span style=\"color: #7f7f7f; text-decoration-color: #7f7f7f\">                 </span>\n",
       "</pre>\n"
      ],
      "text/plain": [
       "\u001b[2;36m                   \u001b[0m\u001b[2;36m \u001b[0m\u001b[1;38;2;0;105;255mINFO    \u001b[0m image_uri is not presented, retrieving image_uri based on            \u001b]8;id=629460;file:///home/ec2-user/anaconda3/envs/pytorch_p310/lib/python3.10/site-packages/sagemaker/image_uris.py\u001b\\\u001b[2mimage_uris.py\u001b[0m\u001b]8;;\u001b\\\u001b[2m:\u001b[0m\u001b]8;id=527395;file:///home/ec2-user/anaconda3/envs/pytorch_p310/lib/python3.10/site-packages/sagemaker/image_uris.py#681\u001b\\\u001b[2m681\u001b[0m\u001b]8;;\u001b\\\n",
       "\u001b[2;36m                    \u001b[0m         instance_type, framework etc.                                        \u001b[2m                 \u001b[0m\n"
      ]
     },
     "metadata": {},
     "output_type": "display_data"
    },
    {
     "data": {
      "text/html": [
       "<pre style=\"white-space:pre;overflow-x:auto;line-height:normal;font-family:Menlo,'DejaVu Sans Mono',consolas,'Courier New',monospace\"><span style=\"color: #7fbfbf; text-decoration-color: #7fbfbf\">                    </span><span style=\"color: #0069ff; text-decoration-color: #0069ff; font-weight: bold\">INFO    </span> image_uri is not presented, retrieving image_uri based on            <a href=\"file:///home/ec2-user/anaconda3/envs/pytorch_p310/lib/python3.10/site-packages/sagemaker/image_uris.py\" target=\"_blank\"><span style=\"color: #7f7f7f; text-decoration-color: #7f7f7f\">image_uris.py</span></a><span style=\"color: #7f7f7f; text-decoration-color: #7f7f7f\">:</span><a href=\"file:///home/ec2-user/anaconda3/envs/pytorch_p310/lib/python3.10/site-packages/sagemaker/image_uris.py#681\" target=\"_blank\"><span style=\"color: #7f7f7f; text-decoration-color: #7f7f7f\">681</span></a>\n",
       "<span style=\"color: #7fbfbf; text-decoration-color: #7fbfbf\">                    </span>         instance_type, framework etc.                                        <span style=\"color: #7f7f7f; text-decoration-color: #7f7f7f\">                 </span>\n",
       "</pre>\n"
      ],
      "text/plain": [
       "\u001b[2;36m                   \u001b[0m\u001b[2;36m \u001b[0m\u001b[1;38;2;0;105;255mINFO    \u001b[0m image_uri is not presented, retrieving image_uri based on            \u001b]8;id=26044;file:///home/ec2-user/anaconda3/envs/pytorch_p310/lib/python3.10/site-packages/sagemaker/image_uris.py\u001b\\\u001b[2mimage_uris.py\u001b[0m\u001b]8;;\u001b\\\u001b[2m:\u001b[0m\u001b]8;id=125103;file:///home/ec2-user/anaconda3/envs/pytorch_p310/lib/python3.10/site-packages/sagemaker/image_uris.py#681\u001b\\\u001b[2m681\u001b[0m\u001b]8;;\u001b\\\n",
       "\u001b[2;36m                    \u001b[0m         instance_type, framework etc.                                        \u001b[2m                 \u001b[0m\n"
      ]
     },
     "metadata": {},
     "output_type": "display_data"
    },
    {
     "data": {
      "text/html": [
       "<pre style=\"white-space:pre;overflow-x:auto;line-height:normal;font-family:Menlo,'DejaVu Sans Mono',consolas,'Courier New',monospace\"><span style=\"color: #7fbfbf; text-decoration-color: #7fbfbf\">                    </span><span style=\"color: #0069ff; text-decoration-color: #0069ff; font-weight: bold\">INFO    </span> Creating training-job with name:                                       <a href=\"file:///home/ec2-user/anaconda3/envs/pytorch_p310/lib/python3.10/site-packages/sagemaker/session.py\" target=\"_blank\"><span style=\"color: #7f7f7f; text-decoration-color: #7f7f7f\">session.py</span></a><span style=\"color: #7f7f7f; text-decoration-color: #7f7f7f\">:</span><a href=\"file:///home/ec2-user/anaconda3/envs/pytorch_p310/lib/python3.10/site-packages/sagemaker/session.py#1042\" target=\"_blank\"><span style=\"color: #7f7f7f; text-decoration-color: #7f7f7f\">1042</span></a>\n",
       "<span style=\"color: #7fbfbf; text-decoration-color: #7fbfbf\">                    </span>         pytorch-training-<span style=\"color: #008080; text-decoration-color: #008080; font-weight: bold\">2025</span>-04-26-15-46-35-502                               <span style=\"color: #7f7f7f; text-decoration-color: #7f7f7f\">               </span>\n",
       "</pre>\n"
      ],
      "text/plain": [
       "\u001b[2;36m                   \u001b[0m\u001b[2;36m \u001b[0m\u001b[1;38;2;0;105;255mINFO    \u001b[0m Creating training-job with name:                                       \u001b]8;id=42540;file:///home/ec2-user/anaconda3/envs/pytorch_p310/lib/python3.10/site-packages/sagemaker/session.py\u001b\\\u001b[2msession.py\u001b[0m\u001b]8;;\u001b\\\u001b[2m:\u001b[0m\u001b]8;id=194632;file:///home/ec2-user/anaconda3/envs/pytorch_p310/lib/python3.10/site-packages/sagemaker/session.py#1042\u001b\\\u001b[2m1042\u001b[0m\u001b]8;;\u001b\\\n",
       "\u001b[2;36m                    \u001b[0m         pytorch-training-\u001b[1;36m2025\u001b[0m-04-26-15-46-35-502                               \u001b[2m               \u001b[0m\n"
      ]
     },
     "metadata": {},
     "output_type": "display_data"
    },
    {
     "name": "stdout",
     "output_type": "stream",
     "text": [
      "2025-04-26 15:46:39 Starting - Starting the training job...\n",
      "2025-04-26 15:47:10 Downloading - Downloading input data...\n",
      "2025-04-26 15:47:30 Downloading - Downloading the training image......\n",
      "2025-04-26 15:48:40 Training - Training image download completed. Training in progress...\u001b[34mbash: cannot set terminal process group (-1): Inappropriate ioctl for device\u001b[0m\n",
      "\u001b[34mbash: no job control in this shell\u001b[0m\n",
      "\u001b[34m/opt/conda/lib/python3.10/site-packages/paramiko/pkey.py:100: CryptographyDeprecationWarning: TripleDES has been moved to cryptography.hazmat.decrepit.ciphers.algorithms.TripleDES and will be removed from cryptography.hazmat.primitives.ciphers.algorithms in 48.0.0.\n",
      "  \"cipher\": algorithms.TripleDES,\u001b[0m\n",
      "\u001b[34m/opt/conda/lib/python3.10/site-packages/paramiko/transport.py:259: CryptographyDeprecationWarning: TripleDES has been moved to cryptography.hazmat.decrepit.ciphers.algorithms.TripleDES and will be removed from cryptography.hazmat.primitives.ciphers.algorithms in 48.0.0.\n",
      "  \"class\": algorithms.TripleDES,\u001b[0m\n",
      "\u001b[34m2025-04-26 15:48:48,824 sagemaker-training-toolkit INFO     Imported framework sagemaker_pytorch_container.training\u001b[0m\n",
      "\u001b[34m2025-04-26 15:48:48,824 sagemaker-training-toolkit INFO     No GPUs detected (normal if no gpus installed)\u001b[0m\n",
      "\u001b[34m2025-04-26 15:48:48,825 sagemaker-training-toolkit INFO     No Neurons detected (normal if no neurons installed)\u001b[0m\n",
      "\u001b[34m2025-04-26 15:48:48,834 sagemaker_pytorch_container.training INFO     Block until all host DNS lookups succeed.\u001b[0m\n",
      "\u001b[34m2025-04-26 15:48:48,836 sagemaker_pytorch_container.training INFO     Invoking user training script.\u001b[0m\n",
      "\u001b[34m2025-04-26 15:48:50,048 sagemaker-training-toolkit INFO     Installing dependencies from requirements.txt\u001b[0m\n",
      "\u001b[34mCollecting torchmetrics (from -r requirements.txt (line 1))\u001b[0m\n",
      "\u001b[34mDownloading torchmetrics-1.7.1-py3-none-any.whl.metadata (21 kB)\u001b[0m\n",
      "\u001b[34mCollecting torchinfo (from -r requirements.txt (line 2))\u001b[0m\n",
      "\u001b[34mDownloading torchinfo-1.8.0-py3-none-any.whl.metadata (21 kB)\u001b[0m\n",
      "\u001b[34mCollecting torch_snippets (from -r requirements.txt (line 3))\u001b[0m\n",
      "\u001b[34mDownloading torch_snippets-0.553-py3-none-any.whl.metadata (16 kB)\u001b[0m\n",
      "\u001b[34mRequirement already satisfied: numpy>1.20.0 in /opt/conda/lib/python3.10/site-packages (from torchmetrics->-r requirements.txt (line 1)) (1.26.4)\u001b[0m\n",
      "\u001b[34mRequirement already satisfied: packaging>17.1 in /opt/conda/lib/python3.10/site-packages (from torchmetrics->-r requirements.txt (line 1)) (23.2)\u001b[0m\n",
      "\u001b[34mRequirement already satisfied: torch>=2.0.0 in /opt/conda/lib/python3.10/site-packages (from torchmetrics->-r requirements.txt (line 1)) (2.2.0)\u001b[0m\n",
      "\u001b[34mCollecting lightning-utilities>=0.8.0 (from torchmetrics->-r requirements.txt (line 1))\u001b[0m\n",
      "\u001b[34mDownloading lightning_utilities-0.14.3-py3-none-any.whl.metadata (5.6 kB)\u001b[0m\n",
      "\u001b[34mRequirement already satisfied: fastcore in /opt/conda/lib/python3.10/site-packages (from torch_snippets->-r requirements.txt (line 3)) (1.5.41)\u001b[0m\n",
      "\u001b[34mRequirement already satisfied: matplotlib in /opt/conda/lib/python3.10/site-packages (from torch_snippets->-r requirements.txt (line 3)) (3.8.4)\u001b[0m\n",
      "\u001b[34mRequirement already satisfied: Pillow in /opt/conda/lib/python3.10/site-packages (from torch_snippets->-r requirements.txt (line 3)) (10.3.0)\u001b[0m\n",
      "\u001b[34mRequirement already satisfied: dill in /opt/conda/lib/python3.10/site-packages (from torch_snippets->-r requirements.txt (line 3)) (0.3.8)\u001b[0m\n",
      "\u001b[34mCollecting loguru (from torch_snippets->-r requirements.txt (line 3))\u001b[0m\n",
      "\u001b[34mDownloading loguru-0.7.3-py3-none-any.whl.metadata (22 kB)\u001b[0m\n",
      "\u001b[34mRequirement already satisfied: pandas in /opt/conda/lib/python3.10/site-packages (from torch_snippets->-r requirements.txt (line 3)) (2.2.2)\u001b[0m\n",
      "\u001b[34mRequirement already satisfied: tqdm in /opt/conda/lib/python3.10/site-packages (from torch_snippets->-r requirements.txt (line 3)) (4.66.4)\u001b[0m\n",
      "\u001b[34mRequirement already satisfied: rich in /opt/conda/lib/python3.10/site-packages (from torch_snippets->-r requirements.txt (line 3)) (13.7.1)\u001b[0m\n",
      "\u001b[34mRequirement already satisfied: PyYAML in /opt/conda/lib/python3.10/site-packages (from torch_snippets->-r requirements.txt (line 3)) (6.0.1)\u001b[0m\n",
      "\u001b[34mRequirement already satisfied: catalogue in /opt/conda/lib/python3.10/site-packages (from torch_snippets->-r requirements.txt (line 3)) (2.0.10)\u001b[0m\n",
      "\u001b[34mRequirement already satisfied: confection in /opt/conda/lib/python3.10/site-packages (from torch_snippets->-r requirements.txt (line 3)) (0.1.4)\u001b[0m\n",
      "\u001b[34mRequirement already satisfied: pydantic in /opt/conda/lib/python3.10/site-packages (from torch_snippets->-r requirements.txt (line 3)) (2.7.2)\u001b[0m\n",
      "\u001b[34mCollecting typing (from torch_snippets->-r requirements.txt (line 3))\u001b[0m\n",
      "\u001b[34mDownloading typing-3.7.4.3.tar.gz (78 kB)\u001b[0m\n",
      "\u001b[34m━━━━━━━━━━━━━━━━━━━━━━━━━━━━━━━━━━━━━━━━ 78.6/78.6 kB 7.0 MB/s eta 0:00:00\u001b[0m\n",
      "\u001b[34mPreparing metadata (setup.py): started\u001b[0m\n",
      "\u001b[34mPreparing metadata (setup.py): finished with status 'done'\u001b[0m\n",
      "\u001b[34mRequirement already satisfied: srsly in /opt/conda/lib/python3.10/site-packages (from torch_snippets->-r requirements.txt (line 3)) (2.4.8)\u001b[0m\n",
      "\u001b[34mRequirement already satisfied: typing-extensions in /opt/conda/lib/python3.10/site-packages (from torch_snippets->-r requirements.txt (line 3)) (4.11.0)\u001b[0m\n",
      "\u001b[34mRequirement already satisfied: wasabi in /opt/conda/lib/python3.10/site-packages (from torch_snippets->-r requirements.txt (line 3)) (1.1.2)\u001b[0m\n",
      "\u001b[34mCollecting jsonlines (from torch_snippets->-r requirements.txt (line 3))\u001b[0m\n",
      "\u001b[34mDownloading jsonlines-4.0.0-py3-none-any.whl.metadata (1.6 kB)\u001b[0m\n",
      "\u001b[34mCollecting imgaug>=0.4.0 (from torch_snippets->-r requirements.txt (line 3))\u001b[0m\n",
      "\u001b[34mDownloading imgaug-0.4.0-py2.py3-none-any.whl.metadata (1.8 kB)\u001b[0m\n",
      "\u001b[34mCollecting xmltodict (from torch_snippets->-r requirements.txt (line 3))\u001b[0m\n",
      "\u001b[34mDownloading xmltodict-0.14.2-py2.py3-none-any.whl.metadata (8.0 kB)\u001b[0m\n",
      "\u001b[34mCollecting fuzzywuzzy (from torch_snippets->-r requirements.txt (line 3))\u001b[0m\n",
      "\u001b[34mDownloading fuzzywuzzy-0.18.0-py2.py3-none-any.whl.metadata (4.9 kB)\u001b[0m\n",
      "\u001b[34mCollecting nltk (from torch_snippets->-r requirements.txt (line 3))\u001b[0m\n",
      "\u001b[34mDownloading nltk-3.9.1-py3-none-any.whl.metadata (2.9 kB)\u001b[0m\n",
      "\u001b[34mCollecting python-Levenshtein (from torch_snippets->-r requirements.txt (line 3))\u001b[0m\n",
      "\u001b[34mDownloading python_levenshtein-0.27.1-py3-none-any.whl.metadata (3.7 kB)\u001b[0m\n",
      "\u001b[34mCollecting pre-commit (from torch_snippets->-r requirements.txt (line 3))\u001b[0m\n",
      "\u001b[34mDownloading pre_commit-4.2.0-py2.py3-none-any.whl.metadata (1.3 kB)\u001b[0m\n",
      "\u001b[34mCollecting icecream (from torch_snippets->-r requirements.txt (line 3))\u001b[0m\n",
      "\u001b[34mDownloading icecream-2.1.4-py3-none-any.whl.metadata (1.3 kB)\u001b[0m\n",
      "\u001b[34mCollecting mergedeep (from torch_snippets->-r requirements.txt (line 3))\u001b[0m\n",
      "\u001b[34mDownloading mergedeep-1.3.4-py3-none-any.whl.metadata (4.3 kB)\u001b[0m\n",
      "\u001b[34mCollecting deepdiff (from torch_snippets->-r requirements.txt (line 3))\u001b[0m\n",
      "\u001b[34mDownloading deepdiff-8.4.2-py3-none-any.whl.metadata (7.1 kB)\u001b[0m\n",
      "\u001b[34mRequirement already satisfied: typer in /opt/conda/lib/python3.10/site-packages (from torch_snippets->-r requirements.txt (line 3)) (0.9.4)\u001b[0m\n",
      "\u001b[34mRequirement already satisfied: six in /opt/conda/lib/python3.10/site-packages (from imgaug>=0.4.0->torch_snippets->-r requirements.txt (line 3)) (1.16.0)\u001b[0m\n",
      "\u001b[34mRequirement already satisfied: scipy in /opt/conda/lib/python3.10/site-packages (from imgaug>=0.4.0->torch_snippets->-r requirements.txt (line 3)) (1.13.1)\u001b[0m\n",
      "\u001b[34mCollecting scikit-image>=0.14.2 (from imgaug>=0.4.0->torch_snippets->-r requirements.txt (line 3))\u001b[0m\n",
      "\u001b[34mDownloading scikit_image-0.25.2-cp310-cp310-manylinux_2_17_x86_64.manylinux2014_x86_64.whl.metadata (14 kB)\u001b[0m\n",
      "\u001b[34mRequirement already satisfied: opencv-python in /opt/conda/lib/python3.10/site-packages (from imgaug>=0.4.0->torch_snippets->-r requirements.txt (line 3)) (4.9.0.80)\u001b[0m\n",
      "\u001b[34mRequirement already satisfied: imageio in /opt/conda/lib/python3.10/site-packages (from imgaug>=0.4.0->torch_snippets->-r requirements.txt (line 3)) (2.34.1)\u001b[0m\n",
      "\u001b[34mCollecting Shapely (from imgaug>=0.4.0->torch_snippets->-r requirements.txt (line 3))\u001b[0m\n",
      "\u001b[34mDownloading shapely-2.1.0-cp310-cp310-manylinux_2_17_x86_64.manylinux2014_x86_64.whl.metadata (6.7 kB)\u001b[0m\n",
      "\u001b[34mRequirement already satisfied: setuptools in /opt/conda/lib/python3.10/site-packages (from lightning-utilities>=0.8.0->torchmetrics->-r requirements.txt (line 1)) (75.6.0)\u001b[0m\n",
      "\u001b[34mRequirement already satisfied: filelock in /opt/conda/lib/python3.10/site-packages (from torch>=2.0.0->torchmetrics->-r requirements.txt (line 1)) (3.14.0)\u001b[0m\n",
      "\u001b[34mRequirement already satisfied: sympy in /opt/conda/lib/python3.10/site-packages (from torch>=2.0.0->torchmetrics->-r requirements.txt (line 1)) (1.12)\u001b[0m\n",
      "\u001b[34mRequirement already satisfied: networkx in /opt/conda/lib/python3.10/site-packages (from torch>=2.0.0->torchmetrics->-r requirements.txt (line 1)) (3.3)\u001b[0m\n",
      "\u001b[34mRequirement already satisfied: jinja2 in /opt/conda/lib/python3.10/site-packages (from torch>=2.0.0->torchmetrics->-r requirements.txt (line 1)) (3.1.5)\u001b[0m\n",
      "\u001b[34mRequirement already satisfied: fsspec in /opt/conda/lib/python3.10/site-packages (from torch>=2.0.0->torchmetrics->-r requirements.txt (line 1)) (2024.5.0)\u001b[0m\n",
      "\u001b[34mRequirement already satisfied: annotated-types>=0.4.0 in /opt/conda/lib/python3.10/site-packages (from pydantic->torch_snippets->-r requirements.txt (line 3)) (0.7.0)\u001b[0m\n",
      "\u001b[34mRequirement already satisfied: pydantic-core==2.18.3 in /opt/conda/lib/python3.10/site-packages (from pydantic->torch_snippets->-r requirements.txt (line 3)) (2.18.3)\u001b[0m\n",
      "\u001b[34mCollecting orderly-set<6,>=5.3.0 (from deepdiff->torch_snippets->-r requirements.txt (line 3))\u001b[0m\n",
      "\u001b[34mDownloading orderly_set-5.4.0-py3-none-any.whl.metadata (6.2 kB)\u001b[0m\n",
      "\u001b[34mRequirement already satisfied: colorama>=0.3.9 in /opt/conda/lib/python3.10/site-packages (from icecream->torch_snippets->-r requirements.txt (line 3)) (0.4.6)\u001b[0m\n",
      "\u001b[34mRequirement already satisfied: pygments>=2.2.0 in /opt/conda/lib/python3.10/site-packages (from icecream->torch_snippets->-r requirements.txt (line 3)) (2.18.0)\u001b[0m\n",
      "\u001b[34mCollecting executing>=2.1.0 (from icecream->torch_snippets->-r requirements.txt (line 3))\u001b[0m\n",
      "\u001b[34mDownloading executing-2.2.0-py2.py3-none-any.whl.metadata (8.9 kB)\u001b[0m\n",
      "\u001b[34mRequirement already satisfied: asttokens>=2.0.1 in /opt/conda/lib/python3.10/site-packages (from icecream->torch_snippets->-r requirements.txt (line 3)) (2.4.1)\u001b[0m\n",
      "\u001b[34mRequirement already satisfied: attrs>=19.2.0 in /opt/conda/lib/python3.10/site-packages (from jsonlines->torch_snippets->-r requirements.txt (line 3)) (23.2.0)\u001b[0m\n",
      "\u001b[34mRequirement already satisfied: contourpy>=1.0.1 in /opt/conda/lib/python3.10/site-packages (from matplotlib->torch_snippets->-r requirements.txt (line 3)) (1.2.1)\u001b[0m\n",
      "\u001b[34mRequirement already satisfied: cycler>=0.10 in /opt/conda/lib/python3.10/site-packages (from matplotlib->torch_snippets->-r requirements.txt (line 3)) (0.12.1)\u001b[0m\n",
      "\u001b[34mRequirement already satisfied: fonttools>=4.22.0 in /opt/conda/lib/python3.10/site-packages (from matplotlib->torch_snippets->-r requirements.txt (line 3)) (4.52.4)\u001b[0m\n",
      "\u001b[34mRequirement already satisfied: kiwisolver>=1.3.1 in /opt/conda/lib/python3.10/site-packages (from matplotlib->torch_snippets->-r requirements.txt (line 3)) (1.4.5)\u001b[0m\n",
      "\u001b[34mRequirement already satisfied: pyparsing>=2.3.1 in /opt/conda/lib/python3.10/site-packages (from matplotlib->torch_snippets->-r requirements.txt (line 3)) (3.1.2)\u001b[0m\n",
      "\u001b[34mRequirement already satisfied: python-dateutil>=2.7 in /opt/conda/lib/python3.10/site-packages (from matplotlib->torch_snippets->-r requirements.txt (line 3)) (2.9.0)\u001b[0m\n",
      "\u001b[34mRequirement already satisfied: click in /opt/conda/lib/python3.10/site-packages (from nltk->torch_snippets->-r requirements.txt (line 3)) (8.1.7)\u001b[0m\n",
      "\u001b[34mRequirement already satisfied: joblib in /opt/conda/lib/python3.10/site-packages (from nltk->torch_snippets->-r requirements.txt (line 3)) (1.4.2)\u001b[0m\n",
      "\u001b[34mCollecting regex>=2021.8.3 (from nltk->torch_snippets->-r requirements.txt (line 3))\u001b[0m\n",
      "\u001b[34mDownloading regex-2024.11.6-cp310-cp310-manylinux_2_17_x86_64.manylinux2014_x86_64.whl.metadata (40 kB)\u001b[0m\n",
      "\u001b[34m━━━━━━━━━━━━━━━━━━━━━━━━━━━━━━━━━━━━━━━━ 40.5/40.5 kB 3.8 MB/s eta 0:00:00\u001b[0m\n",
      "\u001b[34mRequirement already satisfied: pytz>=2020.1 in /opt/conda/lib/python3.10/site-packages (from pandas->torch_snippets->-r requirements.txt (line 3)) (2024.1)\u001b[0m\n",
      "\u001b[34mRequirement already satisfied: tzdata>=2022.7 in /opt/conda/lib/python3.10/site-packages (from pandas->torch_snippets->-r requirements.txt (line 3)) (2024.1)\u001b[0m\n",
      "\u001b[34mCollecting cfgv>=2.0.0 (from pre-commit->torch_snippets->-r requirements.txt (line 3))\u001b[0m\n",
      "\u001b[34mDownloading cfgv-3.4.0-py2.py3-none-any.whl.metadata (8.5 kB)\u001b[0m\n",
      "\u001b[34mCollecting identify>=1.0.0 (from pre-commit->torch_snippets->-r requirements.txt (line 3))\u001b[0m\n",
      "\u001b[34mDownloading identify-2.6.10-py2.py3-none-any.whl.metadata (4.4 kB)\u001b[0m\n",
      "\u001b[34mCollecting nodeenv>=0.11.1 (from pre-commit->torch_snippets->-r requirements.txt (line 3))\u001b[0m\n",
      "\u001b[34mDownloading nodeenv-1.9.1-py2.py3-none-any.whl.metadata (21 kB)\u001b[0m\n",
      "\u001b[34mCollecting virtualenv>=20.10.0 (from pre-commit->torch_snippets->-r requirements.txt (line 3))\u001b[0m\n",
      "\u001b[34mDownloading virtualenv-20.30.0-py3-none-any.whl.metadata (4.5 kB)\u001b[0m\n",
      "\u001b[34mCollecting Levenshtein==0.27.1 (from python-Levenshtein->torch_snippets->-r requirements.txt (line 3))\u001b[0m\n",
      "\u001b[34mDownloading levenshtein-0.27.1-cp310-cp310-manylinux_2_17_x86_64.manylinux2014_x86_64.whl.metadata (3.6 kB)\u001b[0m\n",
      "\u001b[34mCollecting rapidfuzz<4.0.0,>=3.9.0 (from Levenshtein==0.27.1->python-Levenshtein->torch_snippets->-r requirements.txt (line 3))\u001b[0m\n",
      "\u001b[34mDownloading rapidfuzz-3.13.0-cp310-cp310-manylinux_2_17_x86_64.manylinux2014_x86_64.whl.metadata (12 kB)\u001b[0m\n",
      "\u001b[34mRequirement already satisfied: markdown-it-py>=2.2.0 in /opt/conda/lib/python3.10/site-packages (from rich->torch_snippets->-r requirements.txt (line 3)) (3.0.0)\u001b[0m\n",
      "\u001b[34mRequirement already satisfied: mdurl~=0.1 in /opt/conda/lib/python3.10/site-packages (from markdown-it-py>=2.2.0->rich->torch_snippets->-r requirements.txt (line 3)) (0.1.2)\u001b[0m\n",
      "\u001b[34mCollecting tifffile>=2022.8.12 (from scikit-image>=0.14.2->imgaug>=0.4.0->torch_snippets->-r requirements.txt (line 3))\u001b[0m\n",
      "\u001b[34mDownloading tifffile-2025.3.30-py3-none-any.whl.metadata (32 kB)\u001b[0m\n",
      "\u001b[34mCollecting lazy-loader>=0.4 (from scikit-image>=0.14.2->imgaug>=0.4.0->torch_snippets->-r requirements.txt (line 3))\u001b[0m\n",
      "\u001b[34mDownloading lazy_loader-0.4-py3-none-any.whl.metadata (7.6 kB)\u001b[0m\n",
      "\u001b[34mCollecting distlib<1,>=0.3.7 (from virtualenv>=20.10.0->pre-commit->torch_snippets->-r requirements.txt (line 3))\u001b[0m\n",
      "\u001b[34mDownloading distlib-0.3.9-py2.py3-none-any.whl.metadata (5.2 kB)\u001b[0m\n",
      "\u001b[34mRequirement already satisfied: platformdirs<5,>=3.9.1 in /opt/conda/lib/python3.10/site-packages (from virtualenv>=20.10.0->pre-commit->torch_snippets->-r requirements.txt (line 3)) (4.1.0)\u001b[0m\n",
      "\u001b[34mRequirement already satisfied: MarkupSafe>=2.0 in /opt/conda/lib/python3.10/site-packages (from jinja2->torch>=2.0.0->torchmetrics->-r requirements.txt (line 1)) (2.1.5)\u001b[0m\n",
      "\u001b[34mRequirement already satisfied: mpmath>=0.19 in /opt/conda/lib/python3.10/site-packages (from sympy->torch>=2.0.0->torchmetrics->-r requirements.txt (line 1)) (1.3.0)\u001b[0m\n",
      "\u001b[34mDownloading torchmetrics-1.7.1-py3-none-any.whl (961 kB)\u001b[0m\n",
      "\u001b[34m━━━━━━━━━━━━━━━━━━━━━━━━━━━━━━━━━━━━━━━━ 961.5/961.5 kB 62.4 MB/s eta 0:00:00\u001b[0m\n",
      "\u001b[34mDownloading torchinfo-1.8.0-py3-none-any.whl (23 kB)\u001b[0m\n",
      "\u001b[34mDownloading torch_snippets-0.553-py3-none-any.whl (108 kB)\u001b[0m\n",
      "\u001b[34m━━━━━━━━━━━━━━━━━━━━━━━━━━━━━━━━━━━━━━━━ 108.5/108.5 kB 11.4 MB/s eta 0:00:00\u001b[0m\n",
      "\u001b[34mDownloading imgaug-0.4.0-py2.py3-none-any.whl (948 kB)\u001b[0m\n",
      "\u001b[34m━━━━━━━━━━━━━━━━━━━━━━━━━━━━━━━━━━━━━━━━ 948.0/948.0 kB 64.1 MB/s eta 0:00:00\u001b[0m\n",
      "\u001b[34mDownloading lightning_utilities-0.14.3-py3-none-any.whl (28 kB)\u001b[0m\n",
      "\u001b[34mDownloading deepdiff-8.4.2-py3-none-any.whl (87 kB)\u001b[0m\n",
      "\u001b[34m━━━━━━━━━━━━━━━━━━━━━━━━━━━━━━━━━━━━━━━━ 87.6/87.6 kB 9.1 MB/s eta 0:00:00\u001b[0m\n",
      "\u001b[34mDownloading fuzzywuzzy-0.18.0-py2.py3-none-any.whl (18 kB)\u001b[0m\n",
      "\u001b[34mDownloading icecream-2.1.4-py3-none-any.whl (14 kB)\u001b[0m\n",
      "\u001b[34mDownloading jsonlines-4.0.0-py3-none-any.whl (8.7 kB)\u001b[0m\n",
      "\u001b[34mDownloading loguru-0.7.3-py3-none-any.whl (61 kB)\u001b[0m\n",
      "\u001b[34m━━━━━━━━━━━━━━━━━━━━━━━━━━━━━━━━━━━━━━━━ 61.6/61.6 kB 6.5 MB/s eta 0:00:00\u001b[0m\n",
      "\u001b[34mDownloading mergedeep-1.3.4-py3-none-any.whl (6.4 kB)\u001b[0m\n",
      "\u001b[34mDownloading nltk-3.9.1-py3-none-any.whl (1.5 MB)\u001b[0m\n",
      "\u001b[34m━━━━━━━━━━━━━━━━━━━━━━━━━━━━━━━━━━━━━━━━ 1.5/1.5 MB 84.9 MB/s eta 0:00:00\u001b[0m\n",
      "\u001b[34mDownloading pre_commit-4.2.0-py2.py3-none-any.whl (220 kB)\u001b[0m\n",
      "\u001b[34m━━━━━━━━━━━━━━━━━━━━━━━━━━━━━━━━━━━━━━━━ 220.7/220.7 kB 21.0 MB/s eta 0:00:00\u001b[0m\n",
      "\u001b[34mDownloading python_levenshtein-0.27.1-py3-none-any.whl (9.4 kB)\u001b[0m\n",
      "\u001b[34mDownloading levenshtein-0.27.1-cp310-cp310-manylinux_2_17_x86_64.manylinux2014_x86_64.whl (161 kB)\u001b[0m\n",
      "\u001b[34m━━━━━━━━━━━━━━━━━━━━━━━━━━━━━━━━━━━━━━━━ 161.5/161.5 kB 16.3 MB/s eta 0:00:00\u001b[0m\n",
      "\u001b[34mDownloading xmltodict-0.14.2-py2.py3-none-any.whl (10.0 kB)\u001b[0m\n",
      "\u001b[34mDownloading cfgv-3.4.0-py2.py3-none-any.whl (7.2 kB)\u001b[0m\n",
      "\u001b[34mDownloading executing-2.2.0-py2.py3-none-any.whl (26 kB)\u001b[0m\n",
      "\u001b[34mDownloading identify-2.6.10-py2.py3-none-any.whl (99 kB)\u001b[0m\n",
      "\u001b[34m━━━━━━━━━━━━━━━━━━━━━━━━━━━━━━━━━━━━━━━━ 99.1/99.1 kB 10.4 MB/s eta 0:00:00\u001b[0m\n",
      "\u001b[34mDownloading nodeenv-1.9.1-py2.py3-none-any.whl (22 kB)\u001b[0m\n",
      "\u001b[34mDownloading orderly_set-5.4.0-py3-none-any.whl (12 kB)\u001b[0m\n",
      "\u001b[34mDownloading regex-2024.11.6-cp310-cp310-manylinux_2_17_x86_64.manylinux2014_x86_64.whl (781 kB)\u001b[0m\n",
      "\u001b[34m━━━━━━━━━━━━━━━━━━━━━━━━━━━━━━━━━━━━━━━━ 781.7/781.7 kB 56.1 MB/s eta 0:00:00\u001b[0m\n",
      "\u001b[34mDownloading scikit_image-0.25.2-cp310-cp310-manylinux_2_17_x86_64.manylinux2014_x86_64.whl (14.8 MB)\u001b[0m\n",
      "\u001b[34m━━━━━━━━━━━━━━━━━━━━━━━━━━━━━━━━━━━━━━━━ 14.8/14.8 MB 118.8 MB/s eta 0:00:00\u001b[0m\n",
      "\u001b[34mDownloading virtualenv-20.30.0-py3-none-any.whl (4.3 MB)\u001b[0m\n",
      "\u001b[34m━━━━━━━━━━━━━━━━━━━━━━━━━━━━━━━━━━━━━━━━ 4.3/4.3 MB 116.0 MB/s eta 0:00:00\u001b[0m\n",
      "\u001b[34mDownloading shapely-2.1.0-cp310-cp310-manylinux_2_17_x86_64.manylinux2014_x86_64.whl (3.0 MB)\u001b[0m\n",
      "\u001b[34m━━━━━━━━━━━━━━━━━━━━━━━━━━━━━━━━━━━━━━━━ 3.0/3.0 MB 115.5 MB/s eta 0:00:00\u001b[0m\n",
      "\u001b[34mDownloading distlib-0.3.9-py2.py3-none-any.whl (468 kB)\u001b[0m\n",
      "\u001b[34m━━━━━━━━━━━━━━━━━━━━━━━━━━━━━━━━━━━━━━━━ 469.0/469.0 kB 54.4 MB/s eta 0:00:00\u001b[0m\n",
      "\u001b[34mDownloading lazy_loader-0.4-py3-none-any.whl (12 kB)\u001b[0m\n",
      "\u001b[34mDownloading rapidfuzz-3.13.0-cp310-cp310-manylinux_2_17_x86_64.manylinux2014_x86_64.whl (3.1 MB)\u001b[0m\n",
      "\u001b[34m━━━━━━━━━━━━━━━━━━━━━━━━━━━━━━━━━━━━━━━━ 3.1/3.1 MB 122.7 MB/s eta 0:00:00\u001b[0m\n",
      "\u001b[34mDownloading tifffile-2025.3.30-py3-none-any.whl (226 kB)\u001b[0m\n",
      "\u001b[34m━━━━━━━━━━━━━━━━━━━━━━━━━━━━━━━━━━━━━━━━ 226.8/226.8 kB 32.8 MB/s eta 0:00:00\u001b[0m\n",
      "\u001b[34mBuilding wheels for collected packages: typing\u001b[0m\n",
      "\u001b[34mBuilding wheel for typing (setup.py): started\u001b[0m\n",
      "\u001b[34mBuilding wheel for typing (setup.py): finished with status 'done'\u001b[0m\n",
      "\u001b[34mCreated wheel for typing: filename=typing-3.7.4.3-py3-none-any.whl size=26304 sha256=a43736d45b409ad3b1a94c79054869eca704b5053da5dee44a482182b5b7cd35\u001b[0m\n",
      "\u001b[34mStored in directory: /root/.cache/pip/wheels/7c/d0/9e/1f26ebb66d9e1732e4098bc5a6c2d91f6c9a529838f0284890\u001b[0m\n",
      "\u001b[34mSuccessfully built typing\u001b[0m\n",
      "\u001b[34mInstalling collected packages: fuzzywuzzy, distlib, xmltodict, virtualenv, typing, torchinfo, tifffile, Shapely, regex, rapidfuzz, orderly-set, nodeenv, mergedeep, loguru, lightning-utilities, lazy-loader, jsonlines, identify, executing, cfgv, scikit-image, pre-commit, nltk, Levenshtein, icecream, deepdiff, torchmetrics, python-Levenshtein, imgaug, torch_snippets\u001b[0m\n",
      "\u001b[34mAttempting uninstall: executing\u001b[0m\n",
      "\u001b[34mFound existing installation: executing 2.0.1\u001b[0m\n",
      "\u001b[34mUninstalling executing-2.0.1:\u001b[0m\n",
      "\u001b[34mSuccessfully uninstalled executing-2.0.1\u001b[0m\n",
      "\u001b[34mSuccessfully installed Levenshtein-0.27.1 Shapely-2.1.0 cfgv-3.4.0 deepdiff-8.4.2 distlib-0.3.9 executing-2.2.0 fuzzywuzzy-0.18.0 icecream-2.1.4 identify-2.6.10 imgaug-0.4.0 jsonlines-4.0.0 lazy-loader-0.4 lightning-utilities-0.14.3 loguru-0.7.3 mergedeep-1.3.4 nltk-3.9.1 nodeenv-1.9.1 orderly-set-5.4.0 pre-commit-4.2.0 python-Levenshtein-0.27.1 rapidfuzz-3.13.0 regex-2024.11.6 scikit-image-0.25.2 tifffile-2025.3.30 torch_snippets-0.553 torchinfo-1.8.0 torchmetrics-1.7.1 typing-3.7.4.3 virtualenv-20.30.0 xmltodict-0.14.2\u001b[0m\n",
      "\u001b[34mWARNING: Running pip as the 'root' user can result in broken permissions and conflicting behaviour with the system package manager. It is recommended to use a virtual environment instead: https://pip.pypa.io/warnings/venv\u001b[0m\n",
      "\u001b[34m[notice] A new release of pip is available: 24.0 -> 25.1\u001b[0m\n",
      "\u001b[34m[notice] To update, run: pip install --upgrade pip\u001b[0m\n",
      "\u001b[34m2025-04-26 15:49:00,847 sagemaker-training-toolkit INFO     Waiting for the process to finish and give a return code.\u001b[0m\n",
      "\u001b[34m2025-04-26 15:49:00,847 sagemaker-training-toolkit INFO     Done waiting for a return code. Received 0 from exiting process.\u001b[0m\n",
      "\u001b[34m2025-04-26 15:49:00,848 sagemaker-training-toolkit INFO     No GPUs detected (normal if no gpus installed)\u001b[0m\n",
      "\u001b[34m2025-04-26 15:49:00,849 sagemaker-training-toolkit INFO     No Neurons detected (normal if no neurons installed)\u001b[0m\n",
      "\u001b[34m2025-04-26 15:49:00,859 sagemaker-training-toolkit INFO     No GPUs detected (normal if no gpus installed)\u001b[0m\n",
      "\u001b[34m2025-04-26 15:49:00,860 sagemaker-training-toolkit INFO     No Neurons detected (normal if no neurons installed)\u001b[0m\n",
      "\u001b[34m2025-04-26 15:49:00,870 sagemaker-training-toolkit INFO     No GPUs detected (normal if no gpus installed)\u001b[0m\n",
      "\u001b[34m2025-04-26 15:49:00,871 sagemaker-training-toolkit INFO     No Neurons detected (normal if no neurons installed)\u001b[0m\n",
      "\u001b[34m2025-04-26 15:49:00,881 sagemaker-training-toolkit INFO     Invoking user script\u001b[0m\n",
      "\u001b[34mTraining Env:\u001b[0m\n",
      "\u001b[34m{\n",
      "    \"additional_framework_parameters\": {},\n",
      "    \"channel_input_dirs\": {\n",
      "        \"test\": \"/opt/ml/input/data/test\",\n",
      "        \"train\": \"/opt/ml/input/data/train\"\n",
      "    },\n",
      "    \"current_host\": \"algo-1\",\n",
      "    \"current_instance_group\": \"homogeneousCluster\",\n",
      "    \"current_instance_group_hosts\": [\n",
      "        \"algo-1\"\n",
      "    ],\n",
      "    \"current_instance_type\": \"ml.m5.xlarge\",\n",
      "    \"distribution_hosts\": [],\n",
      "    \"distribution_instance_groups\": [],\n",
      "    \"framework_module\": \"sagemaker_pytorch_container.training:main\",\n",
      "    \"hosts\": [\n",
      "        \"algo-1\"\n",
      "    ],\n",
      "    \"hyperparameters\": {\n",
      "        \"batch_size\": 32,\n",
      "        \"epochs\": 10,\n",
      "        \"learning_rate\": 0.001,\n",
      "        \"model_filename\": \"gender_classifier_250426.pt\"\n",
      "    },\n",
      "    \"input_config_dir\": \"/opt/ml/input/config\",\n",
      "    \"input_data_config\": {\n",
      "        \"test\": {\n",
      "            \"TrainingInputMode\": \"File\",\n",
      "            \"S3DistributionType\": \"FullyReplicated\",\n",
      "            \"RecordWrapperType\": \"None\"\n",
      "        },\n",
      "        \"train\": {\n",
      "            \"TrainingInputMode\": \"File\",\n",
      "            \"S3DistributionType\": \"FullyReplicated\",\n",
      "            \"RecordWrapperType\": \"None\"\n",
      "        }\n",
      "    },\n",
      "    \"input_dir\": \"/opt/ml/input\",\n",
      "    \"instance_groups\": [\n",
      "        \"homogeneousCluster\"\n",
      "    ],\n",
      "    \"instance_groups_dict\": {\n",
      "        \"homogeneousCluster\": {\n",
      "            \"instance_group_name\": \"homogeneousCluster\",\n",
      "            \"instance_type\": \"ml.m5.xlarge\",\n",
      "            \"hosts\": [\n",
      "                \"algo-1\"\n",
      "            ]\n",
      "        }\n",
      "    },\n",
      "    \"is_hetero\": false,\n",
      "    \"is_master\": true,\n",
      "    \"is_modelparallel_enabled\": null,\n",
      "    \"is_smddpmprun_installed\": false,\n",
      "    \"is_smddprun_installed\": false,\n",
      "    \"job_name\": \"pytorch-training-2025-04-26-15-46-35-502\",\n",
      "    \"log_level\": 20,\n",
      "    \"master_hostname\": \"algo-1\",\n",
      "    \"model_dir\": \"/opt/ml/model\",\n",
      "    \"module_dir\": \"s3://sagemaker-ap-southeast-1-406829288865/pytorch-training-2025-04-26-15-46-35-502/source/sourcedir.tar.gz\",\n",
      "    \"module_name\": \"train_and_deploy\",\n",
      "    \"network_interface_name\": \"eth0\",\n",
      "    \"num_cpus\": 4,\n",
      "    \"num_gpus\": 0,\n",
      "    \"num_neurons\": 0,\n",
      "    \"output_data_dir\": \"/opt/ml/output/data\",\n",
      "    \"output_dir\": \"/opt/ml/output\",\n",
      "    \"output_intermediate_dir\": \"/opt/ml/output/intermediate\",\n",
      "    \"resource_config\": {\n",
      "        \"current_host\": \"algo-1\",\n",
      "        \"current_instance_type\": \"ml.m5.xlarge\",\n",
      "        \"current_group_name\": \"homogeneousCluster\",\n",
      "        \"hosts\": [\n",
      "            \"algo-1\"\n",
      "        ],\n",
      "        \"instance_groups\": [\n",
      "            {\n",
      "                \"instance_group_name\": \"homogeneousCluster\",\n",
      "                \"instance_type\": \"ml.m5.xlarge\",\n",
      "                \"hosts\": [\n",
      "                    \"algo-1\"\n",
      "                ]\n",
      "            }\n",
      "        ],\n",
      "        \"network_interface_name\": \"eth0\"\n",
      "    },\n",
      "    \"user_entry_point\": \"train_and_deploy.py\"\u001b[0m\n",
      "\u001b[34m}\u001b[0m\n",
      "\u001b[34mEnvironment variables:\u001b[0m\n",
      "\u001b[34mSM_HOSTS=[\"algo-1\"]\u001b[0m\n",
      "\u001b[34mSM_NETWORK_INTERFACE_NAME=eth0\u001b[0m\n",
      "\u001b[34mSM_HPS={\"batch_size\":32,\"epochs\":10,\"learning_rate\":0.001,\"model_filename\":\"gender_classifier_250426.pt\"}\u001b[0m\n",
      "\u001b[34mSM_USER_ENTRY_POINT=train_and_deploy.py\u001b[0m\n",
      "\u001b[34mSM_FRAMEWORK_PARAMS={}\u001b[0m\n",
      "\u001b[34mSM_RESOURCE_CONFIG={\"current_group_name\":\"homogeneousCluster\",\"current_host\":\"algo-1\",\"current_instance_type\":\"ml.m5.xlarge\",\"hosts\":[\"algo-1\"],\"instance_groups\":[{\"hosts\":[\"algo-1\"],\"instance_group_name\":\"homogeneousCluster\",\"instance_type\":\"ml.m5.xlarge\"}],\"network_interface_name\":\"eth0\"}\u001b[0m\n",
      "\u001b[34mSM_INPUT_DATA_CONFIG={\"test\":{\"RecordWrapperType\":\"None\",\"S3DistributionType\":\"FullyReplicated\",\"TrainingInputMode\":\"File\"},\"train\":{\"RecordWrapperType\":\"None\",\"S3DistributionType\":\"FullyReplicated\",\"TrainingInputMode\":\"File\"}}\u001b[0m\n",
      "\u001b[34mSM_OUTPUT_DATA_DIR=/opt/ml/output/data\u001b[0m\n",
      "\u001b[34mSM_CHANNELS=[\"test\",\"train\"]\u001b[0m\n",
      "\u001b[34mSM_CURRENT_HOST=algo-1\u001b[0m\n",
      "\u001b[34mSM_CURRENT_INSTANCE_TYPE=ml.m5.xlarge\u001b[0m\n",
      "\u001b[34mSM_CURRENT_INSTANCE_GROUP=homogeneousCluster\u001b[0m\n",
      "\u001b[34mSM_CURRENT_INSTANCE_GROUP_HOSTS=[\"algo-1\"]\u001b[0m\n",
      "\u001b[34mSM_INSTANCE_GROUPS=[\"homogeneousCluster\"]\u001b[0m\n",
      "\u001b[34mSM_INSTANCE_GROUPS_DICT={\"homogeneousCluster\":{\"hosts\":[\"algo-1\"],\"instance_group_name\":\"homogeneousCluster\",\"instance_type\":\"ml.m5.xlarge\"}}\u001b[0m\n",
      "\u001b[34mSM_DISTRIBUTION_INSTANCE_GROUPS=[]\u001b[0m\n",
      "\u001b[34mSM_IS_HETERO=false\u001b[0m\n",
      "\u001b[34mSM_MODULE_NAME=train_and_deploy\u001b[0m\n",
      "\u001b[34mSM_LOG_LEVEL=20\u001b[0m\n",
      "\u001b[34mSM_FRAMEWORK_MODULE=sagemaker_pytorch_container.training:main\u001b[0m\n",
      "\u001b[34mSM_INPUT_DIR=/opt/ml/input\u001b[0m\n",
      "\u001b[34mSM_INPUT_CONFIG_DIR=/opt/ml/input/config\u001b[0m\n",
      "\u001b[34mSM_OUTPUT_DIR=/opt/ml/output\u001b[0m\n",
      "\u001b[34mSM_NUM_CPUS=4\u001b[0m\n",
      "\u001b[34mSM_NUM_GPUS=0\u001b[0m\n",
      "\u001b[34mSM_NUM_NEURONS=0\u001b[0m\n",
      "\u001b[34mSM_MODEL_DIR=/opt/ml/model\u001b[0m\n",
      "\u001b[34mSM_MODULE_DIR=s3://sagemaker-ap-southeast-1-406829288865/pytorch-training-2025-04-26-15-46-35-502/source/sourcedir.tar.gz\u001b[0m\n",
      "\u001b[34mSM_TRAINING_ENV={\"additional_framework_parameters\":{},\"channel_input_dirs\":{\"test\":\"/opt/ml/input/data/test\",\"train\":\"/opt/ml/input/data/train\"},\"current_host\":\"algo-1\",\"current_instance_group\":\"homogeneousCluster\",\"current_instance_group_hosts\":[\"algo-1\"],\"current_instance_type\":\"ml.m5.xlarge\",\"distribution_hosts\":[],\"distribution_instance_groups\":[],\"framework_module\":\"sagemaker_pytorch_container.training:main\",\"hosts\":[\"algo-1\"],\"hyperparameters\":{\"batch_size\":32,\"epochs\":10,\"learning_rate\":0.001,\"model_filename\":\"gender_classifier_250426.pt\"},\"input_config_dir\":\"/opt/ml/input/config\",\"input_data_config\":{\"test\":{\"RecordWrapperType\":\"None\",\"S3DistributionType\":\"FullyReplicated\",\"TrainingInputMode\":\"File\"},\"train\":{\"RecordWrapperType\":\"None\",\"S3DistributionType\":\"FullyReplicated\",\"TrainingInputMode\":\"File\"}},\"input_dir\":\"/opt/ml/input\",\"instance_groups\":[\"homogeneousCluster\"],\"instance_groups_dict\":{\"homogeneousCluster\":{\"hosts\":[\"algo-1\"],\"instance_group_name\":\"homogeneousCluster\",\"instance_type\":\"ml.m5.xlarge\"}},\"is_hetero\":false,\"is_master\":true,\"is_modelparallel_enabled\":null,\"is_smddpmprun_installed\":false,\"is_smddprun_installed\":false,\"job_name\":\"pytorch-training-2025-04-26-15-46-35-502\",\"log_level\":20,\"master_hostname\":\"algo-1\",\"model_dir\":\"/opt/ml/model\",\"module_dir\":\"s3://sagemaker-ap-southeast-1-406829288865/pytorch-training-2025-04-26-15-46-35-502/source/sourcedir.tar.gz\",\"module_name\":\"train_and_deploy\",\"network_interface_name\":\"eth0\",\"num_cpus\":4,\"num_gpus\":0,\"num_neurons\":0,\"output_data_dir\":\"/opt/ml/output/data\",\"output_dir\":\"/opt/ml/output\",\"output_intermediate_dir\":\"/opt/ml/output/intermediate\",\"resource_config\":{\"current_group_name\":\"homogeneousCluster\",\"current_host\":\"algo-1\",\"current_instance_type\":\"ml.m5.xlarge\",\"hosts\":[\"algo-1\"],\"instance_groups\":[{\"hosts\":[\"algo-1\"],\"instance_group_name\":\"homogeneousCluster\",\"instance_type\":\"ml.m5.xlarge\"}],\"network_interface_name\":\"eth0\"},\"user_entry_point\":\"train_and_deploy.py\"}\u001b[0m\n",
      "\u001b[34mSM_USER_ARGS=[\"--batch_size\",\"32\",\"--epochs\",\"10\",\"--learning_rate\",\"0.001\",\"--model_filename\",\"gender_classifier_250426.pt\"]\u001b[0m\n",
      "\u001b[34mSM_OUTPUT_INTERMEDIATE_DIR=/opt/ml/output/intermediate\u001b[0m\n",
      "\u001b[34mSM_CHANNEL_TEST=/opt/ml/input/data/test\u001b[0m\n",
      "\u001b[34mSM_CHANNEL_TRAIN=/opt/ml/input/data/train\u001b[0m\n",
      "\u001b[34mSM_HP_BATCH_SIZE=32\u001b[0m\n",
      "\u001b[34mSM_HP_EPOCHS=10\u001b[0m\n",
      "\u001b[34mSM_HP_LEARNING_RATE=0.001\u001b[0m\n",
      "\u001b[34mSM_HP_MODEL_FILENAME=gender_classifier_250426.pt\u001b[0m\n",
      "\u001b[34mPYTHONPATH=/opt/ml/code:/opt/conda/bin:/opt/conda/lib/python310.zip:/opt/conda/lib/python3.10:/opt/conda/lib/python3.10/lib-dynload:/opt/conda/lib/python3.10/site-packages\u001b[0m\n",
      "\u001b[34mInvoking script with the following command:\u001b[0m\n",
      "\u001b[34m/opt/conda/bin/python3.10 train_and_deploy.py --batch_size 32 --epochs 10 --learning_rate 0.001 --model_filename gender_classifier_250426.pt\u001b[0m\n",
      "\u001b[34m2025-04-26 15:49:00,883 sagemaker-training-toolkit INFO     Exceptions not imported for SageMaker Debugger as it is not installed.\u001b[0m\n",
      "\u001b[34m2025-04-26 15:49:00,883 sagemaker-training-toolkit INFO     Exceptions not imported for SageMaker TF as Tensorflow is not installed.\u001b[0m\n",
      "\u001b[34mDownloading: \"https://download.pytorch.org/models/vgg11_bn-6002323d.pth\" to /root/.cache/torch/hub/checkpoints/vgg11_bn-6002323d.pth\u001b[0m\n",
      "\u001b[34m0%|          | 0.00/507M [00:00<?, ?B/s]\u001b[0m\n",
      "\u001b[34m2%|▏         | 9.39M/507M [00:00<00:05, 98.5MB/s]\u001b[0m\n",
      "\u001b[34m4%|▎         | 18.8M/507M [00:00<00:05, 91.8MB/s]\u001b[0m\n",
      "\u001b[34m7%|▋         | 34.6M/507M [00:00<00:03, 124MB/s]\u001b[0m\n",
      "\u001b[34m10%|▉         | 50.3M/507M [00:00<00:03, 140MB/s]\u001b[0m\n",
      "\u001b[34m14%|█▎        | 69.5M/507M [00:00<00:02, 162MB/s]\u001b[0m\n",
      "\u001b[34m17%|█▋        | 88.5M/507M [00:00<00:02, 174MB/s]\u001b[0m\n",
      "\u001b[34m21%|██        | 108M/507M [00:00<00:02, 183MB/s]\u001b[0m\n",
      "\u001b[34m25%|██▌       | 127M/507M [00:00<00:02, 188MB/s]\u001b[0m\n",
      "\u001b[34m29%|██▉       | 146M/507M [00:00<00:01, 193MB/s]\u001b[0m\n",
      "\u001b[34m33%|███▎      | 165M/507M [00:01<00:01, 195MB/s]\u001b[0m\n",
      "\u001b[34m36%|███▋      | 184M/507M [00:01<00:01, 189MB/s]\u001b[0m\n",
      "\u001b[34m40%|████      | 203M/507M [00:01<00:01, 192MB/s]\u001b[0m\n",
      "\u001b[34m44%|████▍     | 222M/507M [00:01<00:01, 194MB/s]\u001b[0m\n",
      "\u001b[34m48%|████▊     | 241M/507M [00:01<00:01, 196MB/s]\u001b[0m\n",
      "\u001b[34m51%|█████▏    | 260M/507M [00:01<00:01, 193MB/s]\u001b[0m\n",
      "\u001b[34m55%|█████▍    | 278M/507M [00:01<00:01, 191MB/s]\u001b[0m\n",
      "\u001b[34m59%|█████▊    | 297M/507M [00:01<00:01, 193MB/s]\u001b[0m\n",
      "\u001b[34m62%|██████▏   | 315M/507M [00:01<00:01, 190MB/s]\u001b[0m\n",
      "\u001b[34m66%|██████▌   | 334M/507M [00:01<00:00, 193MB/s]\u001b[0m\n",
      "\u001b[34m70%|██████▉   | 353M/507M [00:02<00:00, 194MB/s]\u001b[0m\n",
      "\u001b[34m73%|███████▎  | 372M/507M [00:02<00:00, 155MB/s]\u001b[0m\n",
      "\u001b[34m77%|███████▋  | 391M/507M [00:02<00:00, 166MB/s]\u001b[0m\n",
      "\u001b[34m81%|████████  | 410M/507M [00:02<00:00, 175MB/s]\u001b[0m\n",
      "\u001b[34m85%|████████▍ | 429M/507M [00:02<00:00, 182MB/s]\u001b[0m\n",
      "\u001b[34m88%|████████▊ | 448M/507M [00:02<00:00, 186MB/s]\u001b[0m\n",
      "\u001b[34m92%|█████████▏| 467M/507M [00:02<00:00, 190MB/s]\u001b[0m\n",
      "\u001b[34m96%|█████████▌| 486M/507M [00:02<00:00, 193MB/s]\u001b[0m\n",
      "\u001b[34m100%|█████████▉| 505M/507M [00:02<00:00, 196MB/s]\u001b[0m\n",
      "\u001b[34m100%|██████████| 507M/507M [00:02<00:00, 181MB/s]\u001b[0m\n",
      "\u001b[34m========================================================================================================================\u001b[0m\n",
      "\u001b[34mLayer (type (var_name))                  Input Shape          Output Shape         Param #              Trainable\u001b[0m\n",
      "\u001b[34m========================================================================================================================\u001b[0m\n",
      "\u001b[34mVGG (VGG)                                [32, 3, 224, 224]    [32, 1]              --                   Partial\u001b[0m\n",
      "\u001b[34m├─Sequential (features)                  [32, 3, 224, 224]    [32, 512, 7, 7]      --                   False\u001b[0m\n",
      "\u001b[34m│    └─Conv2d (0)                        [32, 3, 224, 224]    [32, 64, 224, 224]   (1,792)              False\u001b[0m\n",
      "\u001b[34m│    └─BatchNorm2d (1)                   [32, 64, 224, 224]   [32, 64, 224, 224]   (128)                False\u001b[0m\n",
      "\u001b[34m│    └─ReLU (2)                          [32, 64, 224, 224]   [32, 64, 224, 224]   --                   --\u001b[0m\n",
      "\u001b[34m│    └─MaxPool2d (3)                     [32, 64, 224, 224]   [32, 64, 112, 112]   --                   --\u001b[0m\n",
      "\u001b[34m│    └─Conv2d (4)                        [32, 64, 112, 112]   [32, 128, 112, 112]  (73,856)             False\u001b[0m\n",
      "\u001b[34m│    └─BatchNorm2d (5)                   [32, 128, 112, 112]  [32, 128, 112, 112]  (256)                False\u001b[0m\n",
      "\u001b[34m│    └─ReLU (6)                          [32, 128, 112, 112]  [32, 128, 112, 112]  --                   --\u001b[0m\n",
      "\u001b[34m│    └─MaxPool2d (7)                     [32, 128, 112, 112]  [32, 128, 56, 56]    --                   --\u001b[0m\n",
      "\u001b[34m│    └─Conv2d (8)                        [32, 128, 56, 56]    [32, 256, 56, 56]    (295,168)            False\u001b[0m\n",
      "\u001b[34m│    └─BatchNorm2d (9)                   [32, 256, 56, 56]    [32, 256, 56, 56]    (512)                False\u001b[0m\n",
      "\u001b[34m│    └─ReLU (10)                         [32, 256, 56, 56]    [32, 256, 56, 56]    --                   --\u001b[0m\n",
      "\u001b[34m│    └─Conv2d (11)                       [32, 256, 56, 56]    [32, 256, 56, 56]    (590,080)            False\u001b[0m\n",
      "\u001b[34m│    └─BatchNorm2d (12)                  [32, 256, 56, 56]    [32, 256, 56, 56]    (512)                False\u001b[0m\n",
      "\u001b[34m│    └─ReLU (13)                         [32, 256, 56, 56]    [32, 256, 56, 56]    --                   --\u001b[0m\n",
      "\u001b[34m│    └─MaxPool2d (14)                    [32, 256, 56, 56]    [32, 256, 28, 28]    --                   --\u001b[0m\n",
      "\u001b[34m│    └─Conv2d (15)                       [32, 256, 28, 28]    [32, 512, 28, 28]    (1,180,160)          False\u001b[0m\n",
      "\u001b[34m│    └─BatchNorm2d (16)                  [32, 512, 28, 28]    [32, 512, 28, 28]    (1,024)              False\u001b[0m\n",
      "\u001b[34m│    └─ReLU (17)                         [32, 512, 28, 28]    [32, 512, 28, 28]    --                   --\u001b[0m\n",
      "\u001b[34m│    └─Conv2d (18)                       [32, 512, 28, 28]    [32, 512, 28, 28]    (2,359,808)          False\u001b[0m\n",
      "\u001b[34m│    └─BatchNorm2d (19)                  [32, 512, 28, 28]    [32, 512, 28, 28]    (1,024)              False\u001b[0m\n",
      "\u001b[34m│    └─ReLU (20)                         [32, 512, 28, 28]    [32, 512, 28, 28]    --                   --\u001b[0m\n",
      "\u001b[34m│    └─MaxPool2d (21)                    [32, 512, 28, 28]    [32, 512, 14, 14]    --                   --\u001b[0m\n",
      "\u001b[34m│    └─Conv2d (22)                       [32, 512, 14, 14]    [32, 512, 14, 14]    (2,359,808)          False\u001b[0m\n",
      "\u001b[34m│    └─BatchNorm2d (23)                  [32, 512, 14, 14]    [32, 512, 14, 14]    (1,024)              False\u001b[0m\n",
      "\u001b[34m│    └─ReLU (24)                         [32, 512, 14, 14]    [32, 512, 14, 14]    --                   --\u001b[0m\n",
      "\u001b[34m│    └─Conv2d (25)                       [32, 512, 14, 14]    [32, 512, 14, 14]    (2,359,808)          False\u001b[0m\n",
      "\u001b[34m│    └─BatchNorm2d (26)                  [32, 512, 14, 14]    [32, 512, 14, 14]    (1,024)              False\u001b[0m\n",
      "\u001b[34m│    └─ReLU (27)                         [32, 512, 14, 14]    [32, 512, 14, 14]    --                   --\u001b[0m\n",
      "\u001b[34m│    └─MaxPool2d (28)                    [32, 512, 14, 14]    [32, 512, 7, 7]      --                   --\u001b[0m\n",
      "\u001b[34m├─AdaptiveAvgPool2d (avgpool)            [32, 512, 7, 7]      [32, 512, 7, 7]      --                   --\u001b[0m\n",
      "\u001b[34m├─Sequential (classifier)                [32, 25088]          [32, 1]              --                   True\u001b[0m\n",
      "\u001b[34m│    └─Linear (0)                        [32, 25088]          [32, 2048]           51,382,272           True\u001b[0m\n",
      "\u001b[34m│    └─ReLU (1)                          [32, 2048]           [32, 2048]           --                   --\u001b[0m\n",
      "\u001b[34m│    └─Dropout (2)                       [32, 2048]           [32, 2048]           --                   --\u001b[0m\n",
      "\u001b[34m│    └─Linear (3)                        [32, 2048]           [32, 2048]           4,196,352            True\u001b[0m\n",
      "\u001b[34m│    └─ReLU (4)                          [32, 2048]           [32, 2048]           --                   --\u001b[0m\n",
      "\u001b[34m│    └─Dropout (5)                       [32, 2048]           [32, 2048]           --                   --\u001b[0m\n",
      "\u001b[34m│    └─Linear (6)                        [32, 2048]           [32, 1]              2,049                True\u001b[0m\n",
      "\u001b[34m========================================================================================================================\u001b[0m\n",
      "\u001b[34mTotal params: 64,806,657\u001b[0m\n",
      "\u001b[34mTrainable params: 55,580,673\u001b[0m\n",
      "\u001b[34mNon-trainable params: 9,225,984\u001b[0m\n",
      "\u001b[34mTotal mult-adds (G): 241.55\u001b[0m\n",
      "\u001b[34m========================================================================================================================\u001b[0m\n",
      "\u001b[34mInput size (MB): 19.27\u001b[0m\n",
      "\u001b[34mForward/backward pass size (MB): 3803.19\u001b[0m\n",
      "\u001b[34mParams size (MB): 259.23\u001b[0m\n",
      "\u001b[34mEstimated Total Size (MB): 4081.68\u001b[0m\n",
      "\u001b[34m========================================================================================================================\u001b[0m\n",
      "\u001b[34mEPOCH: 0.100  train_loss: 0.691  train_acc: 0.500  (4.69s - 464.26s remaining)\u001b[0m\n",
      "\u001b[34mEPOCH: 0.200  train_loss: 0.941  train_acc: 0.625  (9.27s - 454.37s remaining)\u001b[0m\n",
      "\u001b[34mEPOCH: 0.300  train_loss: 4.327  train_acc: 0.688  (13.75s - 444.60s remaining)\u001b[0m\n",
      "\u001b[34mEPOCH: 0.400  train_loss: 4.055  train_acc: 0.406  (18.29s - 439.02s remaining)\u001b[0m\n",
      "\u001b[34mEPOCH: 0.500  train_loss: 0.475  train_acc: 0.844  (22.91s - 435.25s remaining)\u001b[0m\n",
      "\u001b[34mEPOCH: 0.600  train_loss: 0.913  train_acc: 0.531  (27.46s - 430.15s remaining)\u001b[0m\n",
      "\u001b[34mEPOCH: 0.700  train_loss: 0.767  train_acc: 0.594  (32.07s - 426.11s remaining)\u001b[0m\n",
      "\u001b[34mEPOCH: 0.800  train_loss: 0.526  train_acc: 0.750  (36.63s - 421.28s remaining)\u001b[0m\n",
      "\u001b[34mEPOCH: 0.900  train_loss: 0.408  train_acc: 0.812  (41.12s - 415.75s remaining)\u001b[0m\n",
      "\u001b[34mEPOCH: 1.000  train_loss: 0.341  train_acc: 0.906  (45.71s - 411.39s remaining)\u001b[0m\n",
      "\u001b[34mEPOCH: 0.333  test_loss: 0.508  test_acc: 0.688  (49.75s - 1442.76s remaining)\u001b[0m\n",
      "\u001b[34mEPOCH: 0.667  test_loss: 0.529  test_acc: 0.812  (53.63s - 750.81s remaining)\u001b[0m\n",
      "\u001b[34mEPOCH: 1.000  test_loss: 0.328  test_acc: 0.812  (55.58s - 500.23s remaining)\u001b[0m\n",
      "\u001b[34mEPOCH: 1.000  train_acc: 0.639  test_loss: 0.519  test_acc: 0.750  train_loss: 1.456  (55.58s - 500.23s remaining)\u001b[0m\n",
      "\u001b[34mEPOCH: 1.100  train_loss: 0.437  train_acc: 0.844  (60.12s - 486.44s remaining)\u001b[0m\n",
      "\u001b[34mEPOCH: 1.200  train_loss: 0.279  train_acc: 0.938  (64.66s - 474.17s remaining)\u001b[0m\n",
      "\u001b[34mEPOCH: 1.300  train_loss: 0.179  train_acc: 0.906  (69.45s - 464.78s remaining)\u001b[0m\n",
      "\u001b[34mEPOCH: 1.400  train_loss: 0.139  train_acc: 0.969  (73.95s - 454.27s remaining)\u001b[0m\n",
      "\u001b[34mEPOCH: 1.500  train_loss: 0.354  train_acc: 0.906  (78.48s - 444.74s remaining)\u001b[0m\n",
      "\u001b[34mEPOCH: 1.600  train_loss: 0.113  train_acc: 0.969  (82.99s - 435.71s remaining)\u001b[0m\n",
      "\u001b[34mEPOCH: 1.700  train_loss: 0.145  train_acc: 0.906  (87.57s - 427.57s remaining)\u001b[0m\n",
      "\u001b[34mEPOCH: 1.800  train_loss: 0.018  train_acc: 1.000  (92.12s - 419.65s remaining)\u001b[0m\n",
      "\u001b[34mEPOCH: 1.900  train_loss: 0.070  train_acc: 0.969  (96.66s - 412.08s remaining)\u001b[0m\n",
      "\u001b[34mEPOCH: 2.000  train_loss: 0.246  train_acc: 0.938  (101.21s - 404.82s remaining)\u001b[0m\n",
      "\u001b[34mEPOCH: 1.333  test_loss: 0.120  test_acc: 0.906  (105.09s - 683.10s remaining)\u001b[0m\n",
      "\u001b[34mEPOCH: 1.667  test_loss: 0.405  test_acc: 0.844  (109.11s - 545.53s remaining)\u001b[0m\n",
      "\u001b[34mEPOCH: 2.000  test_loss: 0.022  test_acc: 1.000  (111.05s - 444.19s remaining)\u001b[0m\n",
      "\u001b[34mEPOCH: 2.000  train_acc: 0.931  test_loss: 0.284  test_acc: 0.854  train_loss: 0.207  (111.05s - 444.19s remaining)\u001b[0m\n",
      "\u001b[34mEPOCH: 2.100  train_loss: 0.018  train_acc: 1.000  (115.58s - 434.79s remaining)\u001b[0m\n",
      "\u001b[34mEPOCH: 2.200  train_loss: 0.032  train_acc: 1.000  (120.15s - 426.00s remaining)\u001b[0m\n",
      "\u001b[34mEPOCH: 2.300  train_loss: 0.015  train_acc: 1.000  (124.80s - 417.81s remaining)\u001b[0m\n",
      "\u001b[34mEPOCH: 2.400  train_loss: 0.002  train_acc: 1.000  (129.35s - 409.59s remaining)\u001b[0m\n",
      "\u001b[34mEPOCH: 2.500  train_loss: 0.036  train_acc: 1.000  (133.90s - 401.70s remaining)\u001b[0m\n",
      "\u001b[34mEPOCH: 2.600  train_loss: 0.069  train_acc: 0.969  (138.45s - 394.04s remaining)\u001b[0m\n",
      "\u001b[34mEPOCH: 2.700  train_loss: 0.010  train_acc: 1.000  (142.97s - 386.56s remaining)\u001b[0m\n",
      "\u001b[34mEPOCH: 2.800  train_loss: 0.009  train_acc: 1.000  (147.48s - 379.23s remaining)\u001b[0m\n",
      "\u001b[34mEPOCH: 2.900  train_loss: 0.006  train_acc: 1.000  (151.99s - 372.12s remaining)\u001b[0m\n",
      "\u001b[34mEPOCH: 3.000  train_loss: 0.009  train_acc: 1.000  (156.51s - 365.20s remaining)\u001b[0m\n",
      "\u001b[34mEPOCH: 2.333  test_loss: 0.120  test_acc: 0.938  (160.44s - 527.15s remaining)\u001b[0m\n",
      "\u001b[34mEPOCH: 2.667  test_loss: 0.466  test_acc: 0.938  (164.32s - 451.87s remaining)\u001b[0m\n",
      "\u001b[34mEPOCH: 3.000  test_loss: 0.097  test_acc: 0.938  (166.26s - 387.93s remaining)\u001b[0m\n",
      "\u001b[34mEPOCH: 3.000  train_acc: 0.991  test_loss: 0.203  test_acc: 0.958  train_loss: 0.044  (166.26s - 387.93s remaining)\u001b[0m\n",
      "\u001b[34mEPOCH: 3.100  train_loss: 0.005  train_acc: 1.000  (170.98s - 380.56s remaining)\u001b[0m\n",
      "\u001b[34mEPOCH: 3.200  train_loss: 0.003  train_acc: 1.000  (175.52s - 372.98s remaining)\u001b[0m\n",
      "\u001b[34mEPOCH: 3.300  train_loss: 0.000  train_acc: 1.000  (180.16s - 365.77s remaining)\u001b[0m\n",
      "\u001b[34mEPOCH: 3.400  train_loss: 0.000  train_acc: 1.000  (184.70s - 358.53s remaining)\u001b[0m\n",
      "\u001b[34mEPOCH: 3.500  train_loss: 0.002  train_acc: 1.000  (189.28s - 351.53s remaining)\u001b[0m\n",
      "\u001b[34mEPOCH: 3.600  train_loss: 0.001  train_acc: 1.000  (193.81s - 344.56s remaining)\u001b[0m\n",
      "\u001b[34mEPOCH: 3.700  train_loss: 0.000  train_acc: 1.000  (198.35s - 337.73s remaining)\u001b[0m\n",
      "\u001b[34mEPOCH: 3.800  train_loss: 0.000  train_acc: 1.000  (202.89s - 331.04s remaining)\u001b[0m\n",
      "\u001b[34mEPOCH: 3.900  train_loss: 0.000  train_acc: 1.000  (207.45s - 324.47s remaining)\u001b[0m\n",
      "\u001b[34mEPOCH: 4.000  train_loss: 0.000  train_acc: 1.000  (211.98s - 317.97s remaining)\u001b[0m\n",
      "\u001b[34mEPOCH: 3.333  test_loss: 0.018  test_acc: 1.000  (215.87s - 431.75s remaining)\u001b[0m\n",
      "\u001b[34mEPOCH: 3.667  test_loss: 0.588  test_acc: 0.875  (219.76s - 379.58s remaining)\u001b[0m\n",
      "\u001b[34mEPOCH: 4.000  test_loss: 0.007  test_acc: 1.000  (221.71s - 332.56s remaining)\u001b[0m\n",
      "\u001b[34mEPOCH: 4.000  train_acc: 1.000  test_loss: 0.235  test_acc: 0.938  train_loss: 0.002  (221.71s - 332.56s remaining)\u001b[0m\n",
      "\u001b[34mEPOCH: 4.100  train_loss: 0.000  train_acc: 1.000  (226.29s - 325.64s remaining)\u001b[0m\n",
      "\u001b[34mEPOCH: 4.200  train_loss: 0.000  train_acc: 1.000  (230.93s - 318.90s remaining)\u001b[0m\n",
      "\u001b[34mEPOCH: 4.300  train_loss: 0.000  train_acc: 1.000  (235.49s - 312.16s remaining)\u001b[0m\n",
      "\u001b[34mEPOCH: 4.400  train_loss: 0.000  train_acc: 1.000  (240.02s - 305.48s remaining)\u001b[0m\n",
      "\u001b[34mEPOCH: 4.500  train_loss: 0.000  train_acc: 1.000  (244.60s - 298.95s remaining)\u001b[0m\n",
      "\u001b[34mEPOCH: 4.600  train_loss: 0.000  train_acc: 1.000  (249.17s - 292.50s remaining)\u001b[0m\n",
      "\u001b[34mEPOCH: 4.700  train_loss: 0.000  train_acc: 1.000  (253.72s - 286.10s remaining)\u001b[0m\n",
      "\u001b[34mEPOCH: 4.800  train_loss: 0.001  train_acc: 1.000  (258.24s - 279.76s remaining)\u001b[0m\n",
      "\u001b[34mEPOCH: 4.900  train_loss: 0.000  train_acc: 1.000  (262.87s - 273.60s remaining)\u001b[0m\n",
      "\u001b[34mEPOCH: 5.000  train_loss: 0.000  train_acc: 1.000  (267.52s - 267.52s remaining)\u001b[0m\n",
      "\u001b[34mEPOCH: 4.333  test_loss: 0.125  test_acc: 0.938  (271.62s - 355.19s remaining)\u001b[0m\n",
      "\u001b[34mEPOCH: 4.667  test_loss: 0.758  test_acc: 0.844  (275.75s - 315.15s remaining)\u001b[0m\n",
      "\u001b[34mEPOCH: 5.000  test_loss: 0.020  test_acc: 1.000  (277.77s - 277.77s remaining)\u001b[0m\n",
      "\u001b[34mEPOCH: 5.000  train_acc: 1.000  test_loss: 0.297  test_acc: 0.927  train_loss: 0.000  (277.77s - 277.77s remaining)\u001b[0m\n",
      "\u001b[34mEPOCH: 5.100  train_loss: 0.000  train_acc: 1.000  (282.50s - 271.42s remaining)\u001b[0m\n",
      "\u001b[34mEPOCH: 5.200  train_loss: 0.000  train_acc: 1.000  (287.30s - 265.20s remaining)\u001b[0m\n",
      "\u001b[34mEPOCH: 5.300  train_loss: 0.000  train_acc: 1.000  (292.09s - 259.02s remaining)\u001b[0m\n",
      "\u001b[34mEPOCH: 5.400  train_loss: 0.000  train_acc: 1.000  (296.84s - 252.87s remaining)\u001b[0m\n",
      "\u001b[34mEPOCH: 5.500  train_loss: 0.000  train_acc: 1.000  (301.62s - 246.78s remaining)\u001b[0m\n",
      "\u001b[34mEPOCH: 5.600  train_loss: 0.000  train_acc: 1.000  (306.43s - 240.77s remaining)\u001b[0m\n",
      "\u001b[34mEPOCH: 5.700  train_loss: 0.000  train_acc: 1.000  (311.26s - 234.81s remaining)\u001b[0m\n",
      "\u001b[34mEPOCH: 5.800  train_loss: 0.000  train_acc: 1.000  (316.01s - 228.84s remaining)\u001b[0m\n",
      "\u001b[34mEPOCH: 5.900  train_loss: 0.000  train_acc: 1.000  (320.78s - 222.91s remaining)\u001b[0m\n",
      "\u001b[34mEPOCH: 6.000  train_loss: 0.000  train_acc: 1.000  (325.52s - 217.01s remaining)\u001b[0m\n",
      "\u001b[34mEPOCH: 5.333  test_loss: 0.054  test_acc: 0.969  (329.64s - 288.43s remaining)\u001b[0m\n",
      "\u001b[34mEPOCH: 5.667  test_loss: 0.773  test_acc: 0.875  (333.70s - 255.19s remaining)\u001b[0m\n",
      "\u001b[34mEPOCH: 6.000  test_loss: 0.003  test_acc: 1.000  (335.74s - 223.82s remaining)\u001b[0m\n",
      "\u001b[34mEPOCH: 6.000  train_acc: 1.000  test_loss: 0.282  test_acc: 0.948  train_loss: 0.000  (335.74s - 223.82s remaining)\u001b[0m\n",
      "\u001b[34m2025-04-26 15:54:49,532 sagemaker-training-toolkit INFO     Waiting for the process to finish and give a return code.\u001b[0m\n",
      "\u001b[34m2025-04-26 15:54:49,532 sagemaker-training-toolkit INFO     Done waiting for a return code. Received 0 from exiting process.\u001b[0m\n",
      "\u001b[34m2025-04-26 15:54:49,532 sagemaker-training-toolkit INFO     Reporting training SUCCESS\u001b[0m\n",
      "\n",
      "2025-04-26 15:55:10 Uploading - Uploading generated training model\n",
      "2025-04-26 15:55:10 Completed - Training job completed\n",
      "Training seconds: 480\n",
      "Billable seconds: 480\n"
     ]
    }
   ],
   "source": [
    "role = get_execution_role()\n",
    "\n",
    "model = PyTorch(\n",
    "    entry_point='train_and_deploy.py',\n",
    "    source_dir='code',\n",
    "    role=role,\n",
    "    instance_type='ml.m5.xlarge',\n",
    "    instance_count=1,\n",
    "    framework_version='2.2.0',\n",
    "    py_version='py310',\n",
    "    hyperparameters=dict(epochs=10, batch_size=32, learning_rate=1e-3, model_filename='gender_classifier_250426.pt')\n",
    ")\n",
    "\n",
    "model.fit({'train': 's3://hieunt-sagemaker-gender-classification/data/train.zip',\n",
    "           'test': 's3://hieunt-sagemaker-gender-classification/data/test.zip'})"
   ]
  },
  {
   "cell_type": "markdown",
   "id": "55f4c14e-aeb7-4c40-ab58-95ebe19365ee",
   "metadata": {},
   "source": [
    "## 4. Deploy the trained model:"
   ]
  },
  {
   "cell_type": "code",
   "execution_count": 11,
   "id": "90bf5e9e-4a2c-467d-b8a5-2e45f73e16b9",
   "metadata": {},
   "outputs": [
    {
     "data": {
      "text/html": [
       "<pre style=\"white-space:pre;overflow-x:auto;line-height:normal;font-family:Menlo,'DejaVu Sans Mono',consolas,'Courier New',monospace\"><span style=\"color: #7fbfbf; text-decoration-color: #7fbfbf\">[04/26/25 16:14:44] </span><span style=\"color: #0069ff; text-decoration-color: #0069ff; font-weight: bold\">INFO    </span> Repacking model artifact                                                  <a href=\"file:///home/ec2-user/anaconda3/envs/pytorch_p310/lib/python3.10/site-packages/sagemaker/model.py\" target=\"_blank\"><span style=\"color: #7f7f7f; text-decoration-color: #7f7f7f\">model.py</span></a><span style=\"color: #7f7f7f; text-decoration-color: #7f7f7f\">:</span><a href=\"file:///home/ec2-user/anaconda3/envs/pytorch_p310/lib/python3.10/site-packages/sagemaker/model.py#820\" target=\"_blank\"><span style=\"color: #7f7f7f; text-decoration-color: #7f7f7f\">820</span></a>\n",
       "<span style=\"color: #7fbfbf; text-decoration-color: #7fbfbf\">                    </span>         <span style=\"font-weight: bold\">(</span>s3:<span style=\"color: #e100e1; text-decoration-color: #e100e1\">//sagemaker-ap-southeast-1-406829288865/pytorch-training-2025-04-26-1</span> <span style=\"color: #7f7f7f; text-decoration-color: #7f7f7f\">            </span>\n",
       "<span style=\"color: #7fbfbf; text-decoration-color: #7fbfbf\">                    </span>         <span style=\"color: #e100e1; text-decoration-color: #e100e1\">5-46-35-502/output/model.tar.gz</span><span style=\"font-weight: bold\">)</span>, script artifact                         <span style=\"color: #7f7f7f; text-decoration-color: #7f7f7f\">            </span>\n",
       "<span style=\"color: #7fbfbf; text-decoration-color: #7fbfbf\">                    </span>         <span style=\"font-weight: bold\">(</span>s3:<span style=\"color: #e100e1; text-decoration-color: #e100e1\">//sagemaker-ap-southeast-1-406829288865/pytorch-training-2025-04-26-1</span> <span style=\"color: #7f7f7f; text-decoration-color: #7f7f7f\">            </span>\n",
       "<span style=\"color: #7fbfbf; text-decoration-color: #7fbfbf\">                    </span>         <span style=\"color: #e100e1; text-decoration-color: #e100e1\">5-46-35-502/source/sourcedir.tar.gz</span><span style=\"font-weight: bold\">)</span>, and dependencies <span style=\"font-weight: bold\">([])</span> into single   <span style=\"color: #7f7f7f; text-decoration-color: #7f7f7f\">            </span>\n",
       "<span style=\"color: #7fbfbf; text-decoration-color: #7fbfbf\">                    </span>         tar.gz file located at                                                    <span style=\"color: #7f7f7f; text-decoration-color: #7f7f7f\">            </span>\n",
       "<span style=\"color: #7fbfbf; text-decoration-color: #7fbfbf\">                    </span>         s3:<span style=\"color: #e100e1; text-decoration-color: #e100e1\">//sagemaker-ap-southeast-1-406829288865/gender-classification-v1-1/mod</span> <span style=\"color: #7f7f7f; text-decoration-color: #7f7f7f\">            </span>\n",
       "<span style=\"color: #7fbfbf; text-decoration-color: #7fbfbf\">                    </span>         <span style=\"color: #e100e1; text-decoration-color: #e100e1\">el.tar.gz.</span> This may take some time depending on model size<span style=\"color: #808000; text-decoration-color: #808000\">...</span>             <span style=\"color: #7f7f7f; text-decoration-color: #7f7f7f\">            </span>\n",
       "</pre>\n"
      ],
      "text/plain": [
       "\u001b[2;36m[04/26/25 16:14:44]\u001b[0m\u001b[2;36m \u001b[0m\u001b[1;38;2;0;105;255mINFO    \u001b[0m Repacking model artifact                                                  \u001b]8;id=930696;file:///home/ec2-user/anaconda3/envs/pytorch_p310/lib/python3.10/site-packages/sagemaker/model.py\u001b\\\u001b[2mmodel.py\u001b[0m\u001b]8;;\u001b\\\u001b[2m:\u001b[0m\u001b]8;id=611844;file:///home/ec2-user/anaconda3/envs/pytorch_p310/lib/python3.10/site-packages/sagemaker/model.py#820\u001b\\\u001b[2m820\u001b[0m\u001b]8;;\u001b\\\n",
       "\u001b[2;36m                    \u001b[0m         \u001b[1m(\u001b[0ms3:\u001b[38;2;225;0;225m/\u001b[0m\u001b[38;2;225;0;225m/sagemaker-ap-southeast-1-406829288865/pytorch-training-2025-04-26-1\u001b[0m \u001b[2m            \u001b[0m\n",
       "\u001b[2;36m                    \u001b[0m         \u001b[38;2;225;0;225m5-46-35-502/output/\u001b[0m\u001b[38;2;225;0;225mmodel.tar.gz\u001b[0m\u001b[1m)\u001b[0m, script artifact                         \u001b[2m            \u001b[0m\n",
       "\u001b[2;36m                    \u001b[0m         \u001b[1m(\u001b[0ms3:\u001b[38;2;225;0;225m/\u001b[0m\u001b[38;2;225;0;225m/sagemaker-ap-southeast-1-406829288865/pytorch-training-2025-04-26-1\u001b[0m \u001b[2m            \u001b[0m\n",
       "\u001b[2;36m                    \u001b[0m         \u001b[38;2;225;0;225m5-46-35-502/source/\u001b[0m\u001b[38;2;225;0;225msourcedir.tar.gz\u001b[0m\u001b[1m)\u001b[0m, and dependencies \u001b[1m(\u001b[0m\u001b[1m[\u001b[0m\u001b[1m]\u001b[0m\u001b[1m)\u001b[0m into single   \u001b[2m            \u001b[0m\n",
       "\u001b[2;36m                    \u001b[0m         tar.gz file located at                                                    \u001b[2m            \u001b[0m\n",
       "\u001b[2;36m                    \u001b[0m         s3:\u001b[38;2;225;0;225m/\u001b[0m\u001b[38;2;225;0;225m/sagemaker-ap-southeast-1-406829288865/gender-classification-v1-1/\u001b[0m\u001b[38;2;225;0;225mmod\u001b[0m \u001b[2m            \u001b[0m\n",
       "\u001b[2;36m                    \u001b[0m         \u001b[38;2;225;0;225mel.tar.gz.\u001b[0m This may take some time depending on model size\u001b[33m...\u001b[0m             \u001b[2m            \u001b[0m\n"
      ]
     },
     "metadata": {},
     "output_type": "display_data"
    },
    {
     "data": {
      "text/html": [
       "<pre style=\"white-space:pre;overflow-x:auto;line-height:normal;font-family:Menlo,'DejaVu Sans Mono',consolas,'Courier New',monospace\"><span style=\"color: #7fbfbf; text-decoration-color: #7fbfbf\">[04/26/25 16:15:02] </span><span style=\"color: #0069ff; text-decoration-color: #0069ff; font-weight: bold\">INFO    </span> Creating model with name: gender-classification-v1-<span style=\"color: #008080; text-decoration-color: #008080; font-weight: bold\">1</span>                   <a href=\"file:///home/ec2-user/anaconda3/envs/pytorch_p310/lib/python3.10/site-packages/sagemaker/session.py\" target=\"_blank\"><span style=\"color: #7f7f7f; text-decoration-color: #7f7f7f\">session.py</span></a><span style=\"color: #7f7f7f; text-decoration-color: #7f7f7f\">:</span><a href=\"file:///home/ec2-user/anaconda3/envs/pytorch_p310/lib/python3.10/site-packages/sagemaker/session.py#4094\" target=\"_blank\"><span style=\"color: #7f7f7f; text-decoration-color: #7f7f7f\">4094</span></a>\n",
       "</pre>\n"
      ],
      "text/plain": [
       "\u001b[2;36m[04/26/25 16:15:02]\u001b[0m\u001b[2;36m \u001b[0m\u001b[1;38;2;0;105;255mINFO    \u001b[0m Creating model with name: gender-classification-v1-\u001b[1;36m1\u001b[0m                   \u001b]8;id=845073;file:///home/ec2-user/anaconda3/envs/pytorch_p310/lib/python3.10/site-packages/sagemaker/session.py\u001b\\\u001b[2msession.py\u001b[0m\u001b]8;;\u001b\\\u001b[2m:\u001b[0m\u001b]8;id=284195;file:///home/ec2-user/anaconda3/envs/pytorch_p310/lib/python3.10/site-packages/sagemaker/session.py#4094\u001b\\\u001b[2m4094\u001b[0m\u001b]8;;\u001b\\\n"
      ]
     },
     "metadata": {},
     "output_type": "display_data"
    },
    {
     "data": {
      "text/html": [
       "<pre style=\"white-space:pre;overflow-x:auto;line-height:normal;font-family:Menlo,'DejaVu Sans Mono',consolas,'Courier New',monospace\"><span style=\"color: #7fbfbf; text-decoration-color: #7fbfbf\">                    </span><span style=\"color: #d7af00; text-decoration-color: #d7af00; font-weight: bold\">WARNING </span> Using already existing model: gender-classification-v1-<span style=\"color: #008080; text-decoration-color: #008080; font-weight: bold\">1</span>               <a href=\"file:///home/ec2-user/anaconda3/envs/pytorch_p310/lib/python3.10/site-packages/sagemaker/session.py\" target=\"_blank\"><span style=\"color: #7f7f7f; text-decoration-color: #7f7f7f\">session.py</span></a><span style=\"color: #7f7f7f; text-decoration-color: #7f7f7f\">:</span><a href=\"file:///home/ec2-user/anaconda3/envs/pytorch_p310/lib/python3.10/site-packages/sagemaker/session.py#4105\" target=\"_blank\"><span style=\"color: #7f7f7f; text-decoration-color: #7f7f7f\">4105</span></a>\n",
       "</pre>\n"
      ],
      "text/plain": [
       "\u001b[2;36m                   \u001b[0m\u001b[2;36m \u001b[0m\u001b[1;38;2;215;175;0mWARNING \u001b[0m Using already existing model: gender-classification-v1-\u001b[1;36m1\u001b[0m               \u001b]8;id=460691;file:///home/ec2-user/anaconda3/envs/pytorch_p310/lib/python3.10/site-packages/sagemaker/session.py\u001b\\\u001b[2msession.py\u001b[0m\u001b]8;;\u001b\\\u001b[2m:\u001b[0m\u001b]8;id=22100;file:///home/ec2-user/anaconda3/envs/pytorch_p310/lib/python3.10/site-packages/sagemaker/session.py#4105\u001b\\\u001b[2m4105\u001b[0m\u001b]8;;\u001b\\\n"
      ]
     },
     "metadata": {},
     "output_type": "display_data"
    },
    {
     "data": {
      "text/html": [
       "<pre style=\"white-space:pre;overflow-x:auto;line-height:normal;font-family:Menlo,'DejaVu Sans Mono',consolas,'Courier New',monospace\"><span style=\"color: #7fbfbf; text-decoration-color: #7fbfbf\">                    </span><span style=\"color: #0069ff; text-decoration-color: #0069ff; font-weight: bold\">INFO    </span> Creating endpoint-config with name gender-classifier-v1-<span style=\"color: #008080; text-decoration-color: #008080; font-weight: bold\">1</span>              <a href=\"file:///home/ec2-user/anaconda3/envs/pytorch_p310/lib/python3.10/site-packages/sagemaker/session.py\" target=\"_blank\"><span style=\"color: #7f7f7f; text-decoration-color: #7f7f7f\">session.py</span></a><span style=\"color: #7f7f7f; text-decoration-color: #7f7f7f\">:</span><a href=\"file:///home/ec2-user/anaconda3/envs/pytorch_p310/lib/python3.10/site-packages/sagemaker/session.py#6019\" target=\"_blank\"><span style=\"color: #7f7f7f; text-decoration-color: #7f7f7f\">6019</span></a>\n",
       "</pre>\n"
      ],
      "text/plain": [
       "\u001b[2;36m                   \u001b[0m\u001b[2;36m \u001b[0m\u001b[1;38;2;0;105;255mINFO    \u001b[0m Creating endpoint-config with name gender-classifier-v1-\u001b[1;36m1\u001b[0m              \u001b]8;id=599499;file:///home/ec2-user/anaconda3/envs/pytorch_p310/lib/python3.10/site-packages/sagemaker/session.py\u001b\\\u001b[2msession.py\u001b[0m\u001b]8;;\u001b\\\u001b[2m:\u001b[0m\u001b]8;id=728163;file:///home/ec2-user/anaconda3/envs/pytorch_p310/lib/python3.10/site-packages/sagemaker/session.py#6019\u001b\\\u001b[2m6019\u001b[0m\u001b]8;;\u001b\\\n"
      ]
     },
     "metadata": {},
     "output_type": "display_data"
    },
    {
     "data": {
      "text/html": [
       "<pre style=\"white-space:pre;overflow-x:auto;line-height:normal;font-family:Menlo,'DejaVu Sans Mono',consolas,'Courier New',monospace\"><span style=\"color: #7fbfbf; text-decoration-color: #7fbfbf\">                    </span><span style=\"color: #0069ff; text-decoration-color: #0069ff; font-weight: bold\">INFO    </span> Creating endpoint with name gender-classifier-v1-<span style=\"color: #008080; text-decoration-color: #008080; font-weight: bold\">1</span>                     <a href=\"file:///home/ec2-user/anaconda3/envs/pytorch_p310/lib/python3.10/site-packages/sagemaker/session.py\" target=\"_blank\"><span style=\"color: #7f7f7f; text-decoration-color: #7f7f7f\">session.py</span></a><span style=\"color: #7f7f7f; text-decoration-color: #7f7f7f\">:</span><a href=\"file:///home/ec2-user/anaconda3/envs/pytorch_p310/lib/python3.10/site-packages/sagemaker/session.py#4841\" target=\"_blank\"><span style=\"color: #7f7f7f; text-decoration-color: #7f7f7f\">4841</span></a>\n",
       "</pre>\n"
      ],
      "text/plain": [
       "\u001b[2;36m                   \u001b[0m\u001b[2;36m \u001b[0m\u001b[1;38;2;0;105;255mINFO    \u001b[0m Creating endpoint with name gender-classifier-v1-\u001b[1;36m1\u001b[0m                     \u001b]8;id=554573;file:///home/ec2-user/anaconda3/envs/pytorch_p310/lib/python3.10/site-packages/sagemaker/session.py\u001b\\\u001b[2msession.py\u001b[0m\u001b]8;;\u001b\\\u001b[2m:\u001b[0m\u001b]8;id=328661;file:///home/ec2-user/anaconda3/envs/pytorch_p310/lib/python3.10/site-packages/sagemaker/session.py#4841\u001b\\\u001b[2m4841\u001b[0m\u001b]8;;\u001b\\\n"
      ]
     },
     "metadata": {},
     "output_type": "display_data"
    },
    {
     "name": "stdout",
     "output_type": "stream",
     "text": [
      "--------!"
     ]
    },
    {
     "data": {
      "text/plain": [
       "<sagemaker.pytorch.model.PyTorchPredictor at 0x7fcb5ed34160>"
      ]
     },
     "execution_count": 11,
     "metadata": {},
     "output_type": "execute_result"
    }
   ],
   "source": [
    "model.deploy(instance_type='ml.m5.xlarge', initial_instance_count=1, endpoint_name='gender-classifier-v1-1',\n",
    "             model_name='gender-classification-v1-1', entry_point='src/inference.py')"
   ]
  },
  {
   "cell_type": "code",
   "execution_count": null,
   "id": "d1dbacff-0d2b-4c55-88d0-e677011805e4",
   "metadata": {},
   "outputs": [],
   "source": []
  }
 ],
 "metadata": {
  "kernelspec": {
   "display_name": "conda_pytorch_p310",
   "language": "python",
   "name": "conda_pytorch_p310"
  },
  "language_info": {
   "codemirror_mode": {
    "name": "ipython",
    "version": 3
   },
   "file_extension": ".py",
   "mimetype": "text/x-python",
   "name": "python",
   "nbconvert_exporter": "python",
   "pygments_lexer": "ipython3",
   "version": "3.10.14"
  }
 },
 "nbformat": 4,
 "nbformat_minor": 5
}
